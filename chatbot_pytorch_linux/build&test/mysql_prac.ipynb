{
 "cells": [
  {
   "cell_type": "code",
   "execution_count": 1,
   "metadata": {},
   "outputs": [],
   "source": [
    "import os\n",
    "from dotenv import load_dotenv\n",
    "import psycopg2"
   ]
  },
  {
   "cell_type": "code",
   "execution_count": 2,
   "metadata": {},
   "outputs": [],
   "source": [
    "load_dotenv(\"./env\")\n",
    "\n",
    "host = os.getenv(\"host\")\n",
    "user = os.getenv(\"usr\")\n",
    "password = os.getenv(\"password\")\n",
    "dbname = os.getenv(\"dbname\")\n",
    "port = os.getenv(\"port\")"
   ]
  },
  {
   "cell_type": "code",
   "execution_count": 3,
   "metadata": {},
   "outputs": [
    {
     "name": "stdout",
     "output_type": "stream",
     "text": [
      "host: dtl-con-1.lunalabs.it\n",
      "user: avti_cb_t\n",
      "password: KAUfuP0PvJfSS7Nc/+r1MQ=\n",
      "dbname: avti_cb_test\n",
      "port: 3307\n"
     ]
    }
   ],
   "source": [
    "print(\"host:\",host)\n",
    "print(\"user:\",user)\n",
    "print(\"password:\",password)\n",
    "print(\"dbname:\",dbname)\n",
    "print(\"port:\",port)"
   ]
  },
  {
   "cell_type": "code",
   "execution_count": 10,
   "metadata": {},
   "outputs": [
    {
     "data": {
      "text/plain": [
       "'3307'"
      ]
     },
     "execution_count": 10,
     "metadata": {},
     "output_type": "execute_result"
    }
   ],
   "source": [
    "port"
   ]
  },
  {
   "cell_type": "code",
   "execution_count": 7,
   "metadata": {},
   "outputs": [],
   "source": [
    "CREATE_MESSAGES_TABLE = (\n",
    "    \"CREATE TABLE IF NOT EXISTS avti_cb_test.messages (user_id VARCHAR(36), language VARCHAR(255), user_message VARCHAR(255), cb_response VARCHAR(255), error_txt VARCHAR(255), intent INT, created_on TIMESTAMP)\"\n",
    ")\n",
    "\n",
    "INSERT_IN_MESSAGES =(\n",
    "    \"\"\"INSERT INTO avti_cb_test.messages (user_id, `language`, user_message, cb_response, intent, created_on) VALUES(%s, %s, %s, %s, %s, %s)\"\"\"\n",
    ") \n",
    "\n",
    "INSERT_IN_MESSAGES_ERROR =(\n",
    "    \"INSERT INTO avti_cb_test.messages (user_id, language, user_message, error_txt, created_on) VALUES(%s, %s, %s, %s, %s)\"\n",
    ")\n"
   ]
  },
  {
   "cell_type": "code",
   "execution_count": null,
   "metadata": {},
   "outputs": [],
   "source": []
  },
  {
   "cell_type": "code",
   "execution_count": 12,
   "metadata": {},
   "outputs": [],
   "source": [
    "import os\n",
    "import mysql.connector\n",
    "\n",
    "\n",
    "# get connection details from environment variables\n",
    "host = os.getenv(\"host\")\n",
    "user = \"avti_cb_t\"\n",
    "password = os.getenv(\"password\")\n",
    "dbname = os.getenv(\"dbname\")\n",
    "port = os.getenv(\"port\")\n",
    "\n",
    "# establish connection to MySQL server\n",
    "cnx = mysql.connector.connect(user=user, password=password,\n",
    "                              host=host, database=dbname, port=port, charset=\"latin1\")\n",
    "\n",
    "# create a cursor object to execute SQL queries\n",
    "cursor = cnx.cursor()\n",
    "\n",
    "# execute a sample query\n",
    "#query = INSERT_IN_MESSAGES\n",
    "#cursor.execute(query, (\"asfgnjksdbgn\",\"en\", \"dslkgnlsdng\",\"asfgnjksdbgn\",1, \"2022-10-11\"))\n",
    "\n",
    "# Define the SQL query with the specified values\n",
    "sql_query = \"\"\"INSERT INTO avti_cb_test.messages (user_id, language, user_message, cb_response, intent, created_on)\n",
    "               VALUES (%s, %s, %s, %s, %s, %s)\"\"\"\n",
    "\n",
    "# Define the values to be inserted\n",
    "values = ('fb139b1a-df52-4cb7-b28f-9743addd4a1d', 'en', 'lets go from home to the centre at 3pm', 'i\\'m starting to build a trip', '2', '2023-04-12 16:56:31.124529')\n",
    "\n",
    "# Execute the SQL query with the specified values\n",
    "cursor.execute(sql_query, values)\n",
    "\n",
    "# retrieve data returned by the query\n",
    "result = cursor.fetchall()\n",
    "\n",
    "# close cursor and connection objects\n",
    "cursor.close()\n",
    "cnx.close()\n"
   ]
  },
  {
   "cell_type": "code",
   "execution_count": 11,
   "metadata": {},
   "outputs": [
    {
     "data": {
      "text/plain": [
       "[]"
      ]
     },
     "execution_count": 11,
     "metadata": {},
     "output_type": "execute_result"
    }
   ],
   "source": [
    "result"
   ]
  },
  {
   "cell_type": "code",
   "execution_count": 15,
   "metadata": {},
   "outputs": [],
   "source": [
    "import mysql.connector\n",
    "\n",
    "\n",
    "# get connection details from environment variables\n",
    "host = os.getenv(\"host\")\n",
    "user = \"avti_cb_t\"\n",
    "password = os.getenv(\"password\")\n",
    "dbname = os.getenv(\"dbname\")\n",
    "port = os.getenv(\"port\")\n",
    "\n",
    "# establish connection to MySQL server\n",
    "cnx = mysql.connector.connect(user=user, password=password,\n",
    "                              host=host, database=dbname, port=port, charset=\"latin1\")\n",
    "\n",
    "\n",
    "# Create a cursor object\n",
    "cursor = cnx.cursor()\n",
    "\n",
    "\n",
    "# Define the SQL query\n",
    "sql_query = \"INSERT INTO avti_cb_test.messages (user_id, `language`, user_message, cb_response, intent, created_on) VALUES (%s, %s, %s, %s, %s, %s)\"\n",
    "\n",
    "\n",
    "# Define the values to be passed as parameters to the query\n",
    "values = ('fb139b1a-df52-4cb7-b28f-9743addd4a1d', 'en', 'lets go from home to the centre at 3pm', \"i'm starting to build a trip\", 2, '2023-04-12 17:56:31.124529')\n",
    "\n",
    "\n",
    "# Execute the SQL query with the specified parameter values\n",
    "cursor.execute(sql_query, values)\n",
    "\n",
    "\n",
    "# Commit the changes to the database\n",
    "cnx.commit()\n",
    "\n",
    "\n",
    "# Close the cursor and connection\n",
    "cursor.close()\n",
    "cnx.close()\n"
   ]
  },
  {
   "cell_type": "code",
   "execution_count": null,
   "metadata": {},
   "outputs": [],
   "source": []
  }
 ],
 "metadata": {
  "kernelspec": {
   "display_name": "pytorch_env",
   "language": "python",
   "name": "python3"
  },
  "language_info": {
   "codemirror_mode": {
    "name": "ipython",
    "version": 3
   },
   "file_extension": ".py",
   "mimetype": "text/x-python",
   "name": "python",
   "nbconvert_exporter": "python",
   "pygments_lexer": "ipython3",
   "version": "3.10.6"
  },
  "orig_nbformat": 4,
  "vscode": {
   "interpreter": {
    "hash": "bbfb401fab630a94aee7d81a1570b56f66849326b379fbc34501169b58665998"
   }
  }
 },
 "nbformat": 4,
 "nbformat_minor": 2
}
