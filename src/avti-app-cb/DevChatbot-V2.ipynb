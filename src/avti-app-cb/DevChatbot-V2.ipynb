{
 "cells": [
  {
   "cell_type": "code",
   "execution_count": 1,
   "id": "e7877555",
   "metadata": {},
   "outputs": [],
   "source": [
    "import time\n",
    "from datetime import datetime\n",
    "import numpy as np\n",
    "import pandas as pd\n",
    "from pickle import dump, load\n",
    "import joblib\n",
    "import string\n",
    "from nltk.corpus import stopwords\n",
    "from sklearn.tree import DecisionTreeClassifier\n",
    "from sklearn.naive_bayes import MultinomialNB\n",
    "from sklearn.ensemble import RandomForestClassifier\n",
    "from sklearn.pipeline import Pipeline\n",
    "from sklearn.feature_extraction.text import CountVectorizer, TfidfTransformer,TfidfVectorizer"
   ]
  },
  {
   "cell_type": "markdown",
   "id": "abbcec83",
   "metadata": {},
   "source": [
    "#### Load Data"
   ]
  },
  {
   "cell_type": "code",
   "execution_count": 2,
   "id": "5e411564",
   "metadata": {},
   "outputs": [
    {
     "data": {
      "text/html": [
       "<div>\n",
       "<style scoped>\n",
       "    .dataframe tbody tr th:only-of-type {\n",
       "        vertical-align: middle;\n",
       "    }\n",
       "\n",
       "    .dataframe tbody tr th {\n",
       "        vertical-align: top;\n",
       "    }\n",
       "\n",
       "    .dataframe thead th {\n",
       "        text-align: right;\n",
       "    }\n",
       "</style>\n",
       "<table border=\"1\" class=\"dataframe\">\n",
       "  <thead>\n",
       "    <tr style=\"text-align: right;\">\n",
       "      <th></th>\n",
       "      <th>sentence_1</th>\n",
       "      <th>sentence_2</th>\n",
       "    </tr>\n",
       "  </thead>\n",
       "  <tbody>\n",
       "    <tr>\n",
       "      <th>0</th>\n",
       "      <td>hi, how are you doing?</td>\n",
       "      <td>i'm fine. how about yourself?</td>\n",
       "    </tr>\n",
       "    <tr>\n",
       "      <th>1</th>\n",
       "      <td>i'm fine. how about yourself?</td>\n",
       "      <td>i'm pretty good. thanks for asking.</td>\n",
       "    </tr>\n",
       "    <tr>\n",
       "      <th>2</th>\n",
       "      <td>i'm pretty good. thanks for asking.</td>\n",
       "      <td>no problem. so how have you been?</td>\n",
       "    </tr>\n",
       "    <tr>\n",
       "      <th>3</th>\n",
       "      <td>no problem. so how have you been?</td>\n",
       "      <td>i've been great. what about you?</td>\n",
       "    </tr>\n",
       "    <tr>\n",
       "      <th>4</th>\n",
       "      <td>i've been great. what about you?</td>\n",
       "      <td>i've been good. i'm in school right now.</td>\n",
       "    </tr>\n",
       "    <tr>\n",
       "      <th>...</th>\n",
       "      <td>...</td>\n",
       "      <td>...</td>\n",
       "    </tr>\n",
       "    <tr>\n",
       "      <th>103726</th>\n",
       "      <td>I saw a huge cockroach outside my house today....</td>\n",
       "      <td>I live in Texas to so i know those feels</td>\n",
       "    </tr>\n",
       "    <tr>\n",
       "      <th>103727</th>\n",
       "      <td>I have a big test on Monday. I am so nervous, ...</td>\n",
       "      <td>I have a big test on Monday, I am so nervous.</td>\n",
       "    </tr>\n",
       "    <tr>\n",
       "      <th>103728</th>\n",
       "      <td>I have a big test on Monday. I am so nervous, ...</td>\n",
       "      <td>What is the test on?</td>\n",
       "    </tr>\n",
       "    <tr>\n",
       "      <th>103729</th>\n",
       "      <td>I have a big test on Monday. I am so nervous, ...</td>\n",
       "      <td>It's for my Chemistry class. I haven't slept m...</td>\n",
       "    </tr>\n",
       "    <tr>\n",
       "      <th>103730</th>\n",
       "      <td>I have a big test on Monday. I am so nervous, ...</td>\n",
       "      <td>Chemistry is quite difficult,have you studied ...</td>\n",
       "    </tr>\n",
       "  </tbody>\n",
       "</table>\n",
       "<p>103731 rows × 2 columns</p>\n",
       "</div>"
      ],
      "text/plain": [
       "                                               sentence_1  \\\n",
       "0                                  hi, how are you doing?   \n",
       "1                           i'm fine. how about yourself?   \n",
       "2                     i'm pretty good. thanks for asking.   \n",
       "3                       no problem. so how have you been?   \n",
       "4                        i've been great. what about you?   \n",
       "...                                                   ...   \n",
       "103726  I saw a huge cockroach outside my house today....   \n",
       "103727  I have a big test on Monday. I am so nervous, ...   \n",
       "103728  I have a big test on Monday. I am so nervous, ...   \n",
       "103729  I have a big test on Monday. I am so nervous, ...   \n",
       "103730  I have a big test on Monday. I am so nervous, ...   \n",
       "\n",
       "                                               sentence_2  \n",
       "0                           i'm fine. how about yourself?  \n",
       "1                     i'm pretty good. thanks for asking.  \n",
       "2                       no problem. so how have you been?  \n",
       "3                        i've been great. what about you?  \n",
       "4                i've been good. i'm in school right now.  \n",
       "...                                                   ...  \n",
       "103726           I live in Texas to so i know those feels  \n",
       "103727      I have a big test on Monday, I am so nervous.  \n",
       "103728                               What is the test on?  \n",
       "103729  It's for my Chemistry class. I haven't slept m...  \n",
       "103730  Chemistry is quite difficult,have you studied ...  \n",
       "\n",
       "[103731 rows x 2 columns]"
      ]
     },
     "metadata": {},
     "output_type": "display_data"
    }
   ],
   "source": [
    "df = pd.read_csv(\"dataset\\processed_df_V2.csv\", sep='\\t')\n",
    "display(df)"
   ]
  },
  {
   "cell_type": "markdown",
   "id": "143d0df7",
   "metadata": {},
   "source": [
    "#### Create the pipeline"
   ]
  },
  {
   "cell_type": "code",
   "execution_count": 3,
   "id": "cf404fb2",
   "metadata": {},
   "outputs": [],
   "source": [
    "def cleaner(x):\n",
    "    return [a for a in (''.join([a for a in x if a not in string.punctuation])).lower().split()]"
   ]
  },
  {
   "cell_type": "code",
   "execution_count": 4,
   "id": "fd82741e",
   "metadata": {},
   "outputs": [
    {
     "data": {
      "text/html": [
       "<div>\n",
       "<style scoped>\n",
       "    .dataframe tbody tr th:only-of-type {\n",
       "        vertical-align: middle;\n",
       "    }\n",
       "\n",
       "    .dataframe tbody tr th {\n",
       "        vertical-align: top;\n",
       "    }\n",
       "\n",
       "    .dataframe thead th {\n",
       "        text-align: right;\n",
       "    }\n",
       "</style>\n",
       "<table border=\"1\" class=\"dataframe\">\n",
       "  <thead>\n",
       "    <tr style=\"text-align: right;\">\n",
       "      <th></th>\n",
       "      <th>sentence_1</th>\n",
       "      <th>sentence_2</th>\n",
       "    </tr>\n",
       "  </thead>\n",
       "  <tbody>\n",
       "    <tr>\n",
       "      <th>0</th>\n",
       "      <td>hi, how are you doing?</td>\n",
       "      <td>i'm fine. how about yourself?</td>\n",
       "    </tr>\n",
       "    <tr>\n",
       "      <th>1</th>\n",
       "      <td>i'm fine. how about yourself?</td>\n",
       "      <td>i'm pretty good. thanks for asking.</td>\n",
       "    </tr>\n",
       "    <tr>\n",
       "      <th>2</th>\n",
       "      <td>i'm pretty good. thanks for asking.</td>\n",
       "      <td>no problem. so how have you been?</td>\n",
       "    </tr>\n",
       "    <tr>\n",
       "      <th>3</th>\n",
       "      <td>no problem. so how have you been?</td>\n",
       "      <td>i've been great. what about you?</td>\n",
       "    </tr>\n",
       "    <tr>\n",
       "      <th>4</th>\n",
       "      <td>i've been great. what about you?</td>\n",
       "      <td>i've been good. i'm in school right now.</td>\n",
       "    </tr>\n",
       "    <tr>\n",
       "      <th>...</th>\n",
       "      <td>...</td>\n",
       "      <td>...</td>\n",
       "    </tr>\n",
       "    <tr>\n",
       "      <th>103726</th>\n",
       "      <td>I saw a huge cockroach outside my house today....</td>\n",
       "      <td>I live in Texas to so i know those feels</td>\n",
       "    </tr>\n",
       "    <tr>\n",
       "      <th>103727</th>\n",
       "      <td>I have a big test on Monday. I am so nervous, ...</td>\n",
       "      <td>I have a big test on Monday, I am so nervous.</td>\n",
       "    </tr>\n",
       "    <tr>\n",
       "      <th>103728</th>\n",
       "      <td>I have a big test on Monday. I am so nervous, ...</td>\n",
       "      <td>What is the test on?</td>\n",
       "    </tr>\n",
       "    <tr>\n",
       "      <th>103729</th>\n",
       "      <td>I have a big test on Monday. I am so nervous, ...</td>\n",
       "      <td>It's for my Chemistry class. I haven't slept m...</td>\n",
       "    </tr>\n",
       "    <tr>\n",
       "      <th>103730</th>\n",
       "      <td>I have a big test on Monday. I am so nervous, ...</td>\n",
       "      <td>Chemistry is quite difficult,have you studied ...</td>\n",
       "    </tr>\n",
       "  </tbody>\n",
       "</table>\n",
       "<p>103731 rows × 2 columns</p>\n",
       "</div>"
      ],
      "text/plain": [
       "                                               sentence_1  \\\n",
       "0                                  hi, how are you doing?   \n",
       "1                           i'm fine. how about yourself?   \n",
       "2                     i'm pretty good. thanks for asking.   \n",
       "3                       no problem. so how have you been?   \n",
       "4                        i've been great. what about you?   \n",
       "...                                                   ...   \n",
       "103726  I saw a huge cockroach outside my house today....   \n",
       "103727  I have a big test on Monday. I am so nervous, ...   \n",
       "103728  I have a big test on Monday. I am so nervous, ...   \n",
       "103729  I have a big test on Monday. I am so nervous, ...   \n",
       "103730  I have a big test on Monday. I am so nervous, ...   \n",
       "\n",
       "                                               sentence_2  \n",
       "0                           i'm fine. how about yourself?  \n",
       "1                     i'm pretty good. thanks for asking.  \n",
       "2                       no problem. so how have you been?  \n",
       "3                        i've been great. what about you?  \n",
       "4                i've been good. i'm in school right now.  \n",
       "...                                                   ...  \n",
       "103726           I live in Texas to so i know those feels  \n",
       "103727      I have a big test on Monday, I am so nervous.  \n",
       "103728                               What is the test on?  \n",
       "103729  It's for my Chemistry class. I haven't slept m...  \n",
       "103730  Chemistry is quite difficult,have you studied ...  \n",
       "\n",
       "[103731 rows x 2 columns]"
      ]
     },
     "execution_count": 4,
     "metadata": {},
     "output_type": "execute_result"
    }
   ],
   "source": [
    "df"
   ]
  },
  {
   "cell_type": "markdown",
   "id": "aaffae47",
   "metadata": {},
   "source": [
    "DecisionTree - Chatbot"
   ]
  },
  {
   "cell_type": "code",
   "execution_count": 5,
   "id": "a1ba0627",
   "metadata": {},
   "outputs": [],
   "source": [
    "pipeline = Pipeline([\n",
    "                     ('bow',CountVectorizer(analyzer=cleaner)),\n",
    "                     ('tfidf',TfidfTransformer()),\n",
    "                     ('classifier',DecisionTreeClassifier())\n",
    "                    ])"
   ]
  },
  {
   "cell_type": "code",
   "execution_count": null,
   "id": "305e1a52",
   "metadata": {},
   "outputs": [],
   "source": [
    "start = time.time\n",
    "pipeline.fit(df['sentence_1'], df['sentence_2'])\n",
    "end = time.time() - start\n",
    "print(\"Training time: {:s}\".format(datetime.utcfromtimestamp(end).strftime('%H:%M:%S')))"
   ]
  },
  {
   "cell_type": "code",
   "execution_count": 7,
   "id": "9b4260cb",
   "metadata": {},
   "outputs": [
    {
     "data": {
      "text/plain": [
       "'Hi human, please tell me your AVTI user'"
      ]
     },
     "execution_count": 7,
     "metadata": {},
     "output_type": "execute_result"
    }
   ],
   "source": [
    "pipeline.predict(['hi'])[0]"
   ]
  },
  {
   "cell_type": "code",
   "execution_count": 9,
   "id": "cae8b7e6",
   "metadata": {},
   "outputs": [
    {
     "data": {
      "text/plain": [
       "\"i don't think so.\""
      ]
     },
     "execution_count": 9,
     "metadata": {},
     "output_type": "execute_result"
    }
   ],
   "source": [
    "pipeline.predict(['Are you human?'])[0]"
   ]
  },
  {
   "cell_type": "code",
   "execution_count": null,
   "id": "9cdec1e8",
   "metadata": {},
   "outputs": [],
   "source": []
  },
  {
   "cell_type": "code",
   "execution_count": null,
   "id": "40e8c2a7",
   "metadata": {},
   "outputs": [],
   "source": []
  },
  {
   "cell_type": "markdown",
   "id": "422e71fd",
   "metadata": {},
   "source": [
    "Save chatbot-model"
   ]
  },
  {
   "cell_type": "code",
   "execution_count": 11,
   "id": "160ee3a6",
   "metadata": {},
   "outputs": [],
   "source": [
    "# dump(pipeline, open('models/DT_chatbot.pkl', 'wb'))"
   ]
  },
  {
   "cell_type": "markdown",
   "id": "3a369f41",
   "metadata": {},
   "source": [
    "Load chatbot-model"
   ]
  },
  {
   "cell_type": "code",
   "execution_count": 4,
   "id": "9c4972b7",
   "metadata": {},
   "outputs": [],
   "source": [
    "model = load(open('models/DT_chatbot.pkl', 'rb'))"
   ]
  },
  {
   "cell_type": "code",
   "execution_count": 11,
   "id": "a7c589fe",
   "metadata": {},
   "outputs": [
    {
     "data": {
      "text/plain": [
       "'Hello, I am great, how are you? Please tell me your AVTI user'"
      ]
     },
     "execution_count": 11,
     "metadata": {},
     "output_type": "execute_result"
    }
   ],
   "source": [
    "model.predict(['how are you?'])[0]"
   ]
  },
  {
   "cell_type": "markdown",
   "id": "84804139",
   "metadata": {},
   "source": [
    "#### Try another algorithm such as Multinomial Naive Bayes"
   ]
  },
  {
   "cell_type": "code",
   "execution_count": 19,
   "id": "8d1ba900",
   "metadata": {},
   "outputs": [],
   "source": []
  },
  {
   "cell_type": "code",
   "execution_count": 31,
   "id": "3b5095d2",
   "metadata": {},
   "outputs": [],
   "source": [
    "pipeline_MNB = Pipeline([\n",
    "                         ('bow',CountVectorizer(analyzer=cleaner)),\n",
    "                         ('tfidf',TfidfTransformer()),\n",
    "                         ('classifier',MultinomialNB())\n",
    "                        ])"
   ]
  },
  {
   "cell_type": "code",
   "execution_count": 32,
   "id": "37d8280a",
   "metadata": {},
   "outputs": [
    {
     "data": {
      "text/plain": [
       "Pipeline(steps=[('bow',\n",
       "                 CountVectorizer(analyzer=<function cleaner at 0x0000022F9C94A940>)),\n",
       "                ('tfidf', TfidfTransformer()),\n",
       "                ('classifier', MultinomialNB())])"
      ]
     },
     "execution_count": 32,
     "metadata": {},
     "output_type": "execute_result"
    }
   ],
   "source": [
    "pipeline_MNB.fit(df['sentence_1'], df['sentence_2'])"
   ]
  },
  {
   "cell_type": "code",
   "execution_count": 33,
   "id": "6eccb01c",
   "metadata": {},
   "outputs": [
    {
     "data": {
      "text/plain": [
       "'what do you mean?'"
      ]
     },
     "execution_count": 33,
     "metadata": {},
     "output_type": "execute_result"
    }
   ],
   "source": [
    "pipeline_MNB.predict(['Are you human?'])[0]"
   ]
  },
  {
   "cell_type": "code",
   "execution_count": 34,
   "id": "abd2039f",
   "metadata": {},
   "outputs": [
    {
     "data": {
      "text/plain": [
       "'what do you mean?'"
      ]
     },
     "execution_count": 34,
     "metadata": {},
     "output_type": "execute_result"
    }
   ],
   "source": [
    "pipeline_MNB.predict(['die'])[0]"
   ]
  },
  {
   "cell_type": "code",
   "execution_count": 35,
   "id": "9185bae5",
   "metadata": {},
   "outputs": [
    {
     "data": {
      "text/plain": [
       "'what do you mean?'"
      ]
     },
     "execution_count": 35,
     "metadata": {},
     "output_type": "execute_result"
    }
   ],
   "source": [
    "pipeline_MNB.predict(['hi, how are you?'])[0]"
   ]
  },
  {
   "cell_type": "code",
   "execution_count": 36,
   "id": "d6cf9a17",
   "metadata": {},
   "outputs": [
    {
     "data": {
      "text/plain": [
       "'what do you mean?'"
      ]
     },
     "execution_count": 36,
     "metadata": {},
     "output_type": "execute_result"
    }
   ],
   "source": [
    "pipeline_MNB.predict(['fuck you'])[0]"
   ]
  },
  {
   "cell_type": "markdown",
   "id": "88be802b",
   "metadata": {},
   "source": [
    "#### Try another algorithm such as RandomForest"
   ]
  },
  {
   "cell_type": "code",
   "execution_count": 55,
   "id": "4bc37a79",
   "metadata": {},
   "outputs": [],
   "source": []
  },
  {
   "cell_type": "code",
   "execution_count": 16,
   "id": "49970290",
   "metadata": {},
   "outputs": [],
   "source": [
    "pipeline_RM = Pipeline([\n",
    "                         ('bow',CountVectorizer(analyzer=cleaner)),\n",
    "                         ('tfidf',TfidfTransformer()),\n",
    "                         ('classifier',RandomForestClassifier(n_estimators=150))\n",
    "                        ])"
   ]
  },
  {
   "cell_type": "code",
   "execution_count": 17,
   "id": "dca72c80",
   "metadata": {},
   "outputs": [
    {
     "data": {
      "text/plain": [
       "Pipeline(steps=[('bow',\n",
       "                 CountVectorizer(analyzer=<function cleaner at 0x000001DFF1C8B8B0>)),\n",
       "                ('tfidf', TfidfTransformer()),\n",
       "                ('classifier', RandomForestClassifier(n_estimators=150))])"
      ]
     },
     "execution_count": 17,
     "metadata": {},
     "output_type": "execute_result"
    }
   ],
   "source": [
    "pipeline_RM.fit(df['sentence_1'], df['sentence_2'])"
   ]
  },
  {
   "cell_type": "code",
   "execution_count": 18,
   "id": "225b58ca",
   "metadata": {},
   "outputs": [
    {
     "data": {
      "text/plain": [
       "'somebody should check his birth record.'"
      ]
     },
     "execution_count": 18,
     "metadata": {},
     "output_type": "execute_result"
    }
   ],
   "source": [
    "pipeline_RM.predict(['Are you human?'])[0]"
   ]
  },
  {
   "cell_type": "code",
   "execution_count": 19,
   "id": "43d2a5df",
   "metadata": {},
   "outputs": [
    {
     "data": {
      "text/plain": [
       "'about finding a job for me.'"
      ]
     },
     "execution_count": 19,
     "metadata": {},
     "output_type": "execute_result"
    }
   ],
   "source": [
    "pipeline_RM.predict([\"i'm scared about machines\"])[0]"
   ]
  },
  {
   "cell_type": "code",
   "execution_count": 20,
   "id": "7c27a61e",
   "metadata": {},
   "outputs": [
    {
     "data": {
      "text/plain": [
       "'How rude'"
      ]
     },
     "execution_count": 20,
     "metadata": {},
     "output_type": "execute_result"
    }
   ],
   "source": [
    "pipeline_RM.predict([\"fuck you\"])[0]"
   ]
  },
  {
   "cell_type": "code",
   "execution_count": 21,
   "id": "489b9232",
   "metadata": {},
   "outputs": [
    {
     "data": {
      "text/plain": [
       "\"'Doc, I can't stop singing 'The Green, Green Grass of Home.'' 'That sounds like Tom Jones Syndrome.' 'Is it common?' 'It's Not Unusual.'\""
      ]
     },
     "execution_count": 21,
     "metadata": {},
     "output_type": "execute_result"
    }
   ],
   "source": [
    "pipeline_RM.predict([\"tell me a joke\"])[0]"
   ]
  },
  {
   "cell_type": "code",
   "execution_count": 22,
   "id": "51e5facb",
   "metadata": {},
   "outputs": [
    {
     "data": {
      "text/plain": [
       "\"i can't remember jokes.\""
      ]
     },
     "execution_count": 22,
     "metadata": {},
     "output_type": "execute_result"
    }
   ],
   "source": [
    "pipeline_RM.predict([\"do you know any joke?\"])[0]"
   ]
  },
  {
   "cell_type": "code",
   "execution_count": 23,
   "id": "fefbf2f2",
   "metadata": {},
   "outputs": [
    {
     "data": {
      "text/plain": [
       "'what time does it start?'"
      ]
     },
     "execution_count": 23,
     "metadata": {},
     "output_type": "execute_result"
    }
   ],
   "source": [
    "pipeline_RM.predict([\"Make me laught\"])[0]"
   ]
  },
  {
   "cell_type": "code",
   "execution_count": 24,
   "id": "06b3db05",
   "metadata": {},
   "outputs": [
    {
     "data": {
      "text/plain": [
       "'it was hot and sunny every day.'"
      ]
     },
     "execution_count": 24,
     "metadata": {},
     "output_type": "execute_result"
    }
   ],
   "source": [
    "pipeline_RM.predict([\"What's the weather?\"])[0]"
   ]
  },
  {
   "cell_type": "code",
   "execution_count": 25,
   "id": "41ac8519",
   "metadata": {},
   "outputs": [
    {
     "data": {
      "text/plain": [
       "\"i'm an open book. watch me all you want.\""
      ]
     },
     "execution_count": 25,
     "metadata": {},
     "output_type": "execute_result"
    }
   ],
   "source": [
    "pipeline_RM.predict([\"Do you like watching films?\"])[0]"
   ]
  },
  {
   "cell_type": "markdown",
   "id": "ec553516",
   "metadata": {},
   "source": [
    "Save model"
   ]
  },
  {
   "cell_type": "code",
   "execution_count": 26,
   "id": "53e38e7d",
   "metadata": {
    "scrolled": true
   },
   "outputs": [],
   "source": [
    "# dump(pipeline_RM, open('models/RF_chatbot.pkl', 'wb'))"
   ]
  },
  {
   "cell_type": "markdown",
   "id": "73602c9c",
   "metadata": {},
   "source": [
    "34 GB model.. need to use joblib library"
   ]
  },
  {
   "cell_type": "code",
   "execution_count": 27,
   "id": "863d0362",
   "metadata": {},
   "outputs": [
    {
     "data": {
      "text/plain": [
       "['models/RF_chatbot.pkl']"
      ]
     },
     "execution_count": 27,
     "metadata": {},
     "output_type": "execute_result"
    }
   ],
   "source": [
    "joblib.dump(pipeline_RM, 'models/RF_chatbot.pkl')"
   ]
  },
  {
   "cell_type": "code",
   "execution_count": null,
   "id": "6e0e7d6f",
   "metadata": {},
   "outputs": [],
   "source": []
  }
 ],
 "metadata": {
  "kernelspec": {
   "display_name": "Python 3 (ipykernel)",
   "language": "python",
   "name": "python3"
  },
  "language_info": {
   "codemirror_mode": {
    "name": "ipython",
    "version": 3
   },
   "file_extension": ".py",
   "mimetype": "text/x-python",
   "name": "python",
   "nbconvert_exporter": "python",
   "pygments_lexer": "ipython3",
   "version": "3.8.13"
  }
 },
 "nbformat": 4,
 "nbformat_minor": 5
}
