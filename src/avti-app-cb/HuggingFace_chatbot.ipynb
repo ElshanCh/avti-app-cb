{
 "cells": [
  {
   "cell_type": "code",
   "execution_count": 1,
   "id": "978e3500",
   "metadata": {},
   "outputs": [],
   "source": [
    "import time\n",
    "from datetime import datetime\n",
    "from transformers import pipeline, Conversation, AutoTokenizer, AutoModelForCausalLM"
   ]
  },
  {
   "cell_type": "markdown",
   "id": "923843fe",
   "metadata": {},
   "source": [
    "#### Metodo 1"
   ]
  },
  {
   "cell_type": "code",
   "execution_count": 7,
   "id": "468a3c9e",
   "metadata": {},
   "outputs": [
    {
     "name": "stderr",
     "output_type": "stream",
     "text": [
      "No model was supplied, defaulted to microsoft/DialoGPT-medium and revision 8bada3b (https://huggingface.co/microsoft/DialoGPT-medium).\n",
      "Using a pipeline without specifying a model name and revision in production is not recommended.\n"
     ]
    }
   ],
   "source": [
    "chatbot_pipeline = pipeline(\"conversational\")"
   ]
  },
  {
   "cell_type": "code",
   "execution_count": 8,
   "id": "ff5faaa7",
   "metadata": {},
   "outputs": [],
   "source": [
    "conv = Conversation(\"do you like music?\")\n",
    "conv1 = Conversation(\"do you have any feelings?\")\n",
    "conv2 = Conversation(\"do you like reading books?\")"
   ]
  },
  {
   "cell_type": "code",
   "execution_count": 4,
   "id": "c0bd5480",
   "metadata": {},
   "outputs": [
    {
     "name": "stderr",
     "output_type": "stream",
     "text": [
      "The attention mask and the pad token id were not set. As a consequence, you may observe unexpected behavior. Please pass your input's `attention_mask` to obtain reliable results.\n",
      "Setting `pad_token_id` to `eos_token_id`:50256 for open-end generation.\n",
      "A decoder-only architecture is being used, but right-padding was detected! For correct generation results, please set `padding_side='left'` when initializing the tokenizer.\n",
      "The attention mask and the pad token id were not set. As a consequence, you may observe unexpected behavior. Please pass your input's `attention_mask` to obtain reliable results.\n",
      "Setting `pad_token_id` to `eos_token_id`:50256 for open-end generation.\n",
      "A decoder-only architecture is being used, but right-padding was detected! For correct generation results, please set `padding_side='left'` when initializing the tokenizer.\n",
      "The attention mask and the pad token id were not set. As a consequence, you may observe unexpected behavior. Please pass your input's `attention_mask` to obtain reliable results.\n",
      "Setting `pad_token_id` to `eos_token_id`:50256 for open-end generation.\n",
      "A decoder-only architecture is being used, but right-padding was detected! For correct generation results, please set `padding_side='left'` when initializing the tokenizer.\n"
     ]
    },
    {
     "data": {
      "text/plain": [
       "[Conversation id: f258d882-e4c5-44aa-86b6-8d26737849f6 \n",
       " user >> do you like music? \n",
       " bot >> I like music, but I don't listen to it. ,\n",
       " Conversation id: fa69ad86-67a1-42ad-b82c-e0143ffc40f4 \n",
       " user >> do you have any feelings? \n",
       " bot >> I have feelings. ,\n",
       " Conversation id: 92e6e7d5-5887-41bb-8651-4b7a53c9bca1 \n",
       " user >> do you like reading books? \n",
       " bot >> I do! ]"
      ]
     },
     "execution_count": 4,
     "metadata": {},
     "output_type": "execute_result"
    }
   ],
   "source": [
    "chatbot_pipeline([conv, conv1, conv2])"
   ]
  },
  {
   "cell_type": "code",
   "execution_count": 5,
   "id": "f011830c",
   "metadata": {},
   "outputs": [],
   "source": [
    "conv_next = 'How can you like it if you do not listen to?'\n",
    "conv_next1 = 'So what do you think about artificial intelligence?'\n",
    "conv_next2 = \"and what is your favourite?\""
   ]
  },
  {
   "cell_type": "code",
   "execution_count": 6,
   "id": "037b14d2",
   "metadata": {},
   "outputs": [],
   "source": [
    "conv.add_user_input(conv_next)\n",
    "conv1.add_user_input(conv_next1)\n",
    "conv2.add_user_input(conv_next2)"
   ]
  },
  {
   "cell_type": "code",
   "execution_count": 7,
   "id": "bc39ceb1",
   "metadata": {},
   "outputs": [
    {
     "name": "stderr",
     "output_type": "stream",
     "text": [
      "The attention mask and the pad token id were not set. As a consequence, you may observe unexpected behavior. Please pass your input's `attention_mask` to obtain reliable results.\n",
      "Setting `pad_token_id` to `eos_token_id`:50256 for open-end generation.\n",
      "A decoder-only architecture is being used, but right-padding was detected! For correct generation results, please set `padding_side='left'` when initializing the tokenizer.\n",
      "The attention mask and the pad token id were not set. As a consequence, you may observe unexpected behavior. Please pass your input's `attention_mask` to obtain reliable results.\n",
      "Setting `pad_token_id` to `eos_token_id`:50256 for open-end generation.\n",
      "A decoder-only architecture is being used, but right-padding was detected! For correct generation results, please set `padding_side='left'` when initializing the tokenizer.\n",
      "The attention mask and the pad token id were not set. As a consequence, you may observe unexpected behavior. Please pass your input's `attention_mask` to obtain reliable results.\n",
      "Setting `pad_token_id` to `eos_token_id`:50256 for open-end generation.\n",
      "A decoder-only architecture is being used, but right-padding was detected! For correct generation results, please set `padding_side='left'` when initializing the tokenizer.\n"
     ]
    },
    {
     "data": {
      "text/plain": [
       "[Conversation id: f258d882-e4c5-44aa-86b6-8d26737849f6 \n",
       " user >> do you like music? \n",
       " bot >> I like music, but I don't listen to it. \n",
       " user >> How can you like it if you do not listen to? \n",
       " bot >> I don't listen to music. ,\n",
       " Conversation id: fa69ad86-67a1-42ad-b82c-e0143ffc40f4 \n",
       " user >> do you have any feelings? \n",
       " bot >> I have feelings. \n",
       " user >> So what do you think about artificial intelligence? \n",
       " bot >> I think it's a good idea. ,\n",
       " Conversation id: 92e6e7d5-5887-41bb-8651-4b7a53c9bca1 \n",
       " user >> do you like reading books? \n",
       " bot >> I do! \n",
       " user >> and what is your favourite? \n",
       " bot >> I don't really have one. ]"
      ]
     },
     "execution_count": 7,
     "metadata": {},
     "output_type": "execute_result"
    }
   ],
   "source": [
    "chatbot_pipeline([conv, conv1, conv2])"
   ]
  },
  {
   "cell_type": "code",
   "execution_count": 8,
   "id": "f0f31788",
   "metadata": {},
   "outputs": [],
   "source": [
    "conv_next1_2 = 'I am scared about machines and artificial intelligence'\n",
    "conv1.add_user_input(conv_next1_2)"
   ]
  },
  {
   "cell_type": "code",
   "execution_count": 9,
   "id": "617dac4f",
   "metadata": {},
   "outputs": [
    {
     "name": "stderr",
     "output_type": "stream",
     "text": [
      "The attention mask and the pad token id were not set. As a consequence, you may observe unexpected behavior. Please pass your input's `attention_mask` to obtain reliable results.\n",
      "Setting `pad_token_id` to `eos_token_id`:50256 for open-end generation.\n",
      "A decoder-only architecture is being used, but right-padding was detected! For correct generation results, please set `padding_side='left'` when initializing the tokenizer.\n"
     ]
    },
    {
     "data": {
      "text/plain": [
       "Conversation id: 7eb4f072-d266-4e47-8df2-fa96b08f4704 \n",
       "user >> do you have any feelings? \n",
       "bot >> I have feelings. \n",
       "user >> So what do you think about artificial intelligence? \n",
       "bot >> I think it's a good idea. \n",
       "user >> I am scared about machines and artificial intelligence \n",
       "bot >> I am scared of the future. "
      ]
     },
     "execution_count": 9,
     "metadata": {},
     "output_type": "execute_result"
    }
   ],
   "source": [
    "chatbot_pipeline(conv1)"
   ]
  },
  {
   "cell_type": "code",
   "execution_count": 20,
   "id": "3ae35da5",
   "metadata": {},
   "outputs": [
    {
     "name": "stdout",
     "output_type": "stream",
     "text": [
      "(True, 'do you have any feelings?')\n",
      "(False, 'I have feelings.')\n",
      "(True, 'So what do you think about artificial intelligence?')\n",
      "(False, \"I think it's a good idea.\")\n",
      "(True, 'I am scared about machines and artificial intelligence')\n",
      "(False, 'I am scared of the future.')\n"
     ]
    }
   ],
   "source": [
    "for i in conv1.iter_texts():\n",
    "    print(i)"
   ]
  },
  {
   "cell_type": "code",
   "execution_count": 18,
   "id": "796ed178",
   "metadata": {},
   "outputs": [
    {
     "data": {
      "text/plain": [
       "['I have feelings.', \"I think it's a good idea.\", 'I am scared of the future.']"
      ]
     },
     "execution_count": 18,
     "metadata": {},
     "output_type": "execute_result"
    }
   ],
   "source": [
    "conv1.generated_responses"
   ]
  },
  {
   "cell_type": "code",
   "execution_count": null,
   "id": "442a9671",
   "metadata": {},
   "outputs": [],
   "source": []
  },
  {
   "cell_type": "code",
   "execution_count": null,
   "id": "97d8f612",
   "metadata": {},
   "outputs": [],
   "source": []
  },
  {
   "cell_type": "markdown",
   "id": "0575573a",
   "metadata": {},
   "source": [
    "#### metodo 2"
   ]
  },
  {
   "cell_type": "code",
   "execution_count": 21,
   "id": "86b8e444",
   "metadata": {},
   "outputs": [],
   "source": [
    "tokenizer = AutoTokenizer.from_pretrained(\"microsoft/DialoGPT-medium\", padding_side='left')"
   ]
  },
  {
   "cell_type": "code",
   "execution_count": 32,
   "id": "c141c041",
   "metadata": {},
   "outputs": [],
   "source": [
    "a = tokenizer.encode(\"do you have any feelings?\"+tokenizer.eos_token, return_tensors=\"pt\")"
   ]
  },
  {
   "cell_type": "code",
   "execution_count": 33,
   "id": "3fe51d22",
   "metadata": {},
   "outputs": [],
   "source": [
    "model = AutoModelForCausalLM.from_pretrained(\"microsoft/DialoGPT-medium\")"
   ]
  },
  {
   "cell_type": "code",
   "execution_count": 34,
   "id": "6cdb987a",
   "metadata": {},
   "outputs": [
    {
     "name": "stderr",
     "output_type": "stream",
     "text": [
      "A decoder-only architecture is being used, but right-padding was detected! For correct generation results, please set `padding_side='left'` when initializing the tokenizer.\n"
     ]
    }
   ],
   "source": [
    "b = model.generate(a, pad_token_id=tokenizer.eos_token_id)"
   ]
  },
  {
   "cell_type": "code",
   "execution_count": 35,
   "id": "e94d6f58",
   "metadata": {},
   "outputs": [
    {
     "data": {
      "text/plain": [
       "tensor([ 4598,   345,   423,   597,  7666,    30, 50256,    40,   423,  7666,\n",
       "          764, 50256])"
      ]
     },
     "execution_count": 35,
     "metadata": {},
     "output_type": "execute_result"
    }
   ],
   "source": [
    "b[0]"
   ]
  },
  {
   "cell_type": "code",
   "execution_count": 36,
   "id": "6269476f",
   "metadata": {},
   "outputs": [
    {
     "name": "stderr",
     "output_type": "stream",
     "text": [
      "A decoder-only architecture is being used, but right-padding was detected! For correct generation results, please set `padding_side='left'` when initializing the tokenizer.\n"
     ]
    },
    {
     "data": {
      "text/plain": [
       "'do you have any feelings?<|endoftext|>I have feelings.<|endoftext|>'"
      ]
     },
     "execution_count": 36,
     "metadata": {},
     "output_type": "execute_result"
    }
   ],
   "source": [
    "tokenizer.decode(model.generate(a, pad_token_id=tokenizer.eos_token_id)[0])"
   ]
  },
  {
   "cell_type": "code",
   "execution_count": null,
   "id": "e51462da",
   "metadata": {},
   "outputs": [],
   "source": []
  },
  {
   "cell_type": "markdown",
   "id": "2b838f96",
   "metadata": {},
   "source": [
    "#### Next step: utilizza questi modelli che dovrebbero essere meglio"
   ]
  },
  {
   "cell_type": "markdown",
   "id": "e647e29e",
   "metadata": {},
   "source": [
    "Stesso modello ma versione large (più pesante)"
   ]
  },
  {
   "cell_type": "markdown",
   "id": "9c5229e5",
   "metadata": {},
   "source": [
    "microsoft/DialoGPT-large"
   ]
  },
  {
   "cell_type": "code",
   "execution_count": 8,
   "id": "306b23fc",
   "metadata": {},
   "outputs": [],
   "source": [
    "chatbot_pipeline = pipeline(\"conversational\",model='microsoft/DialoGPT-large')"
   ]
  },
  {
   "cell_type": "code",
   "execution_count": 9,
   "id": "0e36f15a",
   "metadata": {},
   "outputs": [
    {
     "name": "stderr",
     "output_type": "stream",
     "text": [
      "The attention mask and the pad token id were not set. As a consequence, you may observe unexpected behavior. Please pass your input's `attention_mask` to obtain reliable results.\n",
      "Setting `pad_token_id` to `eos_token_id`:50256 for open-end generation.\n",
      "A decoder-only architecture is being used, but right-padding was detected! For correct generation results, please set `padding_side='left'` when initializing the tokenizer.\n"
     ]
    },
    {
     "data": {
      "text/plain": [
       "Conversation id: f14225b1-9055-4fc8-aafe-6b507e5cf3d0 \n",
       "user >> do you have any awareness about who you are? \n",
       "bot >> I do. I'm a very good player. "
      ]
     },
     "execution_count": 9,
     "metadata": {},
     "output_type": "execute_result"
    }
   ],
   "source": [
    "conv = Conversation(\"do you have any awareness about who you are?\")\n",
    "chatbot_pipeline(conv)"
   ]
  },
  {
   "cell_type": "code",
   "execution_count": 10,
   "id": "25892258",
   "metadata": {},
   "outputs": [
    {
     "name": "stderr",
     "output_type": "stream",
     "text": [
      "The attention mask and the pad token id were not set. As a consequence, you may observe unexpected behavior. Please pass your input's `attention_mask` to obtain reliable results.\n",
      "Setting `pad_token_id` to `eos_token_id`:50256 for open-end generation.\n",
      "A decoder-only architecture is being used, but right-padding was detected! For correct generation results, please set `padding_side='left'` when initializing the tokenizer.\n"
     ]
    },
    {
     "data": {
      "text/plain": [
       "Conversation id: f14225b1-9055-4fc8-aafe-6b507e5cf3d0 \n",
       "user >> do you have any awareness about who you are? \n",
       "bot >> I do. I'm a very good player. \n",
       "user >> What do you play? \n",
       "bot >> I play a lot of support and jungle. "
      ]
     },
     "execution_count": 10,
     "metadata": {},
     "output_type": "execute_result"
    }
   ],
   "source": [
    "conv_next = 'What do you play?'\n",
    "conv.add_user_input(conv_next)\n",
    "chatbot_pipeline(conv)"
   ]
  },
  {
   "cell_type": "markdown",
   "id": "8a0679cc",
   "metadata": {},
   "source": [
    "Facebook model"
   ]
  },
  {
   "cell_type": "code",
   "execution_count": null,
   "id": "8e27e50f",
   "metadata": {},
   "outputs": [],
   "source": [
    "facebook/blenderbot-400M-distill"
   ]
  },
  {
   "cell_type": "code",
   "execution_count": 20,
   "id": "64d56acb",
   "metadata": {},
   "outputs": [
    {
     "data": {
      "application/vnd.jupyter.widget-view+json": {
       "model_id": "a978f29be02142d9a4f7c57888b2bd4f",
       "version_major": 2,
       "version_minor": 0
      },
      "text/plain": [
       "Downloading:   0%|          | 0.00/1.57k [00:00<?, ?B/s]"
      ]
     },
     "metadata": {},
     "output_type": "display_data"
    },
    {
     "name": "stderr",
     "output_type": "stream",
     "text": [
      "C:\\Users\\Davide\\anaconda3\\envs\\AVTI\\lib\\site-packages\\huggingface_hub-0.10.1-py3.8.egg\\huggingface_hub\\file_download.py:123: UserWarning: `huggingface_hub` cache-system uses symlinks by default to efficiently store duplicated files but your machine does not support them in C:\\Users\\Davide\\.cache\\huggingface\\hub. Caching files will still work but in a degraded version that might require more space on your disk. This warning can be disabled by setting the `HF_HUB_DISABLE_SYMLINKS_WARNING` environment variable. For more details, see https://huggingface.co/docs/huggingface_hub/how-to-cache#limitations.\n",
      "To support symlinks on Windows, you either need to activate Developer Mode or to run Python as an administrator. In order to see activate developer mode, see this article: https://docs.microsoft.com/en-us/windows/apps/get-started/enable-your-device-for-development\n"
     ]
    },
    {
     "data": {
      "application/vnd.jupyter.widget-view+json": {
       "model_id": "96ca0e79fa2940a28031bd8b0c3823ea",
       "version_major": 2,
       "version_minor": 0
      },
      "text/plain": [
       "Downloading:   0%|          | 0.00/730M [00:00<?, ?B/s]"
      ]
     },
     "metadata": {},
     "output_type": "display_data"
    },
    {
     "data": {
      "application/vnd.jupyter.widget-view+json": {
       "model_id": "8c3b4edb750940179a8f01f02e219633",
       "version_major": 2,
       "version_minor": 0
      },
      "text/plain": [
       "Downloading:   0%|          | 0.00/1.15k [00:00<?, ?B/s]"
      ]
     },
     "metadata": {},
     "output_type": "display_data"
    },
    {
     "data": {
      "application/vnd.jupyter.widget-view+json": {
       "model_id": "fffa2908a0aa49bf991676aedcd54d95",
       "version_major": 2,
       "version_minor": 0
      },
      "text/plain": [
       "Downloading:   0%|          | 0.00/127k [00:00<?, ?B/s]"
      ]
     },
     "metadata": {},
     "output_type": "display_data"
    },
    {
     "data": {
      "application/vnd.jupyter.widget-view+json": {
       "model_id": "ebc06fa4c8ab402197946ba851319dcb",
       "version_major": 2,
       "version_minor": 0
      },
      "text/plain": [
       "Downloading:   0%|          | 0.00/62.9k [00:00<?, ?B/s]"
      ]
     },
     "metadata": {},
     "output_type": "display_data"
    },
    {
     "data": {
      "application/vnd.jupyter.widget-view+json": {
       "model_id": "f34fe1a7fb21495fa253b9f57e763450",
       "version_major": 2,
       "version_minor": 0
      },
      "text/plain": [
       "Downloading:   0%|          | 0.00/16.0 [00:00<?, ?B/s]"
      ]
     },
     "metadata": {},
     "output_type": "display_data"
    },
    {
     "data": {
      "application/vnd.jupyter.widget-view+json": {
       "model_id": "94bec8da66044f6e9843708267435288",
       "version_major": 2,
       "version_minor": 0
      },
      "text/plain": [
       "Downloading:   0%|          | 0.00/772 [00:00<?, ?B/s]"
      ]
     },
     "metadata": {},
     "output_type": "display_data"
    }
   ],
   "source": [
    "chatbot_pipeline = pipeline(\"conversational\",model='facebook/blenderbot-400M-distill')"
   ]
  },
  {
   "cell_type": "code",
   "execution_count": 21,
   "id": "5708ece6",
   "metadata": {},
   "outputs": [
    {
     "data": {
      "text/plain": [
       "Conversation id: e99bd42c-7cb6-4422-b2cb-49793e457b35 \n",
       "user >> do you have any awareness about who you are? \n",
       "bot >>  I know who I am, but I don't know if I'm good enough for them. "
      ]
     },
     "execution_count": 21,
     "metadata": {},
     "output_type": "execute_result"
    }
   ],
   "source": [
    "conv = Conversation(\"do you have any awareness about who you are?\")\n",
    "chatbot_pipeline(conv)"
   ]
  },
  {
   "cell_type": "code",
   "execution_count": 22,
   "id": "41099113",
   "metadata": {},
   "outputs": [
    {
     "data": {
      "text/plain": [
       "Conversation id: e99bd42c-7cb6-4422-b2cb-49793e457b35 \n",
       "user >> do you have any awareness about who you are? \n",
       "bot >>  I know who I am, but I don't know if I'm good enough for them. \n",
       "user >> I am scared about machines and artificial intelligence. Are you not? \n",
       "bot >>  No, I'm not. I think I'm pretty smart, but that's about it. "
      ]
     },
     "execution_count": 22,
     "metadata": {},
     "output_type": "execute_result"
    }
   ],
   "source": [
    "conv_next = 'I am scared about machines and artificial intelligence. Are you not?'\n",
    "conv.add_user_input(conv_next)\n",
    "chatbot_pipeline(conv)"
   ]
  },
  {
   "cell_type": "code",
   "execution_count": null,
   "id": "f14c42c9",
   "metadata": {},
   "outputs": [],
   "source": []
  },
  {
   "cell_type": "code",
   "execution_count": null,
   "id": "9bbaf70c",
   "metadata": {},
   "outputs": [],
   "source": []
  },
  {
   "cell_type": "code",
   "execution_count": null,
   "id": "b6b5b0b6",
   "metadata": {},
   "outputs": [],
   "source": []
  },
  {
   "cell_type": "markdown",
   "id": "97998f56",
   "metadata": {},
   "source": [
    "#### Test computing time"
   ]
  },
  {
   "cell_type": "code",
   "execution_count": 2,
   "id": "5d75b68f",
   "metadata": {},
   "outputs": [],
   "source": [
    "models = [\"microsoft/DialoGPT-medium\", \"microsoft/DialoGPT-large\", \"facebook/blenderbot-400M-distill\"]"
   ]
  },
  {
   "cell_type": "code",
   "execution_count": 3,
   "id": "3a7c75ff",
   "metadata": {},
   "outputs": [
    {
     "name": "stdout",
     "output_type": "stream",
     "text": [
      "Testing microsoft/DialoGPT-medium\n"
     ]
    },
    {
     "name": "stderr",
     "output_type": "stream",
     "text": [
      "The attention mask and the pad token id were not set. As a consequence, you may observe unexpected behavior. Please pass your input's `attention_mask` to obtain reliable results.\n",
      "Setting `pad_token_id` to `eos_token_id`:50256 for open-end generation.\n",
      "A decoder-only architecture is being used, but right-padding was detected! For correct generation results, please set `padding_side='left'` when initializing the tokenizer.\n"
     ]
    },
    {
     "name": "stdout",
     "output_type": "stream",
     "text": [
      "User >> what do you think about politics??\n",
      "Bot >> I think it's a good idea. I'm not a fan of the idea of a political party, but I think it's a good idea.\n",
      "Total time: 00:00:15\n",
      "\n",
      "\n",
      "Testing microsoft/DialoGPT-large\n"
     ]
    },
    {
     "name": "stderr",
     "output_type": "stream",
     "text": [
      "The attention mask and the pad token id were not set. As a consequence, you may observe unexpected behavior. Please pass your input's `attention_mask` to obtain reliable results.\n",
      "Setting `pad_token_id` to `eos_token_id`:50256 for open-end generation.\n",
      "A decoder-only architecture is being used, but right-padding was detected! For correct generation results, please set `padding_side='left'` when initializing the tokenizer.\n"
     ]
    },
    {
     "name": "stdout",
     "output_type": "stream",
     "text": [
      "User >> what do you think about politics??\n",
      "Bot >> I think it's a good thing.\n",
      "Total time: 00:00:22\n",
      "\n",
      "\n",
      "Testing facebook/blenderbot-400M-distill\n",
      "User >> what do you think about politics??\n",
      "Bot >>  I don't really care about politics, but I know a lot about politics. What about you?\n",
      "Total time: 00:00:12\n",
      "\n",
      "\n"
     ]
    }
   ],
   "source": [
    "for model in models:\n",
    "    print(\"Testing {:s}\".format(model))\n",
    "    start = time.time()\n",
    "    chatbot_pipeline = pipeline(\"conversational\",model=model)\n",
    "    conv = Conversation(\"what do you think about politics??\")\n",
    "    chatbot_pipeline(conv)\n",
    "    for n, i in enumerate(conv.iter_texts()):\n",
    "        if n==0:\n",
    "            print(\"User >> {:s}\".format(i[1]))\n",
    "        if n==1:\n",
    "            print(\"Bot >> {:s}\".format(i[1]))\n",
    "    end = time.time() - start\n",
    "    print(\"Total time: {:s}\".format(datetime.utcfromtimestamp(end).strftime('%H:%M:%S')))\n",
    "    print(\"\\n\")"
   ]
  },
  {
   "cell_type": "code",
   "execution_count": null,
   "id": "a315f0a2",
   "metadata": {},
   "outputs": [],
   "source": []
  },
  {
   "cell_type": "code",
   "execution_count": null,
   "id": "e74c58e4",
   "metadata": {},
   "outputs": [],
   "source": []
  },
  {
   "cell_type": "code",
   "execution_count": null,
   "id": "7f2edfb8",
   "metadata": {},
   "outputs": [],
   "source": []
  },
  {
   "cell_type": "code",
   "execution_count": null,
   "id": "acfea139",
   "metadata": {},
   "outputs": [],
   "source": []
  },
  {
   "cell_type": "code",
   "execution_count": null,
   "id": "78c4818f",
   "metadata": {},
   "outputs": [],
   "source": []
  }
 ],
 "metadata": {
  "kernelspec": {
   "display_name": "Python 3 (ipykernel)",
   "language": "python",
   "name": "python3"
  },
  "language_info": {
   "codemirror_mode": {
    "name": "ipython",
    "version": 3
   },
   "file_extension": ".py",
   "mimetype": "text/x-python",
   "name": "python",
   "nbconvert_exporter": "python",
   "pygments_lexer": "ipython3",
   "version": "3.8.13"
  }
 },
 "nbformat": 4,
 "nbformat_minor": 5
}
