{
 "cells": [
  {
   "attachments": {},
   "cell_type": "markdown",
   "metadata": {},
   "source": [
    "### **Necessary imports**"
   ]
  },
  {
   "cell_type": "code",
   "execution_count": 1,
   "metadata": {},
   "outputs": [
    {
     "name": "stderr",
     "output_type": "stream",
     "text": [
      "2023-02-14 17:37:18.958524: I tensorflow/core/platform/cpu_feature_guard.cc:193] This TensorFlow binary is optimized with oneAPI Deep Neural Network Library (oneDNN) to use the following CPU instructions in performance-critical operations:  AVX2 FMA\n",
      "To enable them in other operations, rebuild TensorFlow with the appropriate compiler flags.\n",
      "2023-02-14 17:37:19.091393: W tensorflow/compiler/xla/stream_executor/platform/default/dso_loader.cc:64] Could not load dynamic library 'libcudart.so.11.0'; dlerror: libcudart.so.11.0: cannot open shared object file: No such file or directory\n",
      "2023-02-14 17:37:19.091413: I tensorflow/compiler/xla/stream_executor/cuda/cudart_stub.cc:29] Ignore above cudart dlerror if you do not have a GPU set up on your machine.\n",
      "2023-02-14 17:37:19.677390: W tensorflow/compiler/xla/stream_executor/platform/default/dso_loader.cc:64] Could not load dynamic library 'libnvinfer.so.7'; dlerror: libnvinfer.so.7: cannot open shared object file: No such file or directory\n",
      "2023-02-14 17:37:19.677478: W tensorflow/compiler/xla/stream_executor/platform/default/dso_loader.cc:64] Could not load dynamic library 'libnvinfer_plugin.so.7'; dlerror: libnvinfer_plugin.so.7: cannot open shared object file: No such file or directory\n",
      "2023-02-14 17:37:19.677485: W tensorflow/compiler/tf2tensorrt/utils/py_utils.cc:38] TF-TRT Warning: Cannot dlopen some TensorRT libraries. If you would like to use Nvidia GPU with TensorRT, please make sure the missing libraries mentioned above are installed properly.\n"
     ]
    }
   ],
   "source": [
    "import numpy as np\n",
    "import pandas as pd\n",
    "import string\n",
    "\n",
    "#%matplotlib inline\n",
    "#from matplotlib import pyplot as plt\n",
    "#plt.style.use('fivethirtyeight')\n",
    "\n",
    "import tensorflow as tf\n",
    "from tensorflow import keras\n",
    "from keras import layers, callbacks\n",
    "from keras.layers import Dense, Flatten, Embedding, LSTM, GRU, Dropout, Activation, Input\n",
    "\n",
    "from keras.models import Model\n",
    "import sklearn\n",
    "from sklearn.model_selection import train_test_split\n",
    "\n",
    "from sklearn.metrics import confusion_matrix,accuracy_score, f1_score, recall_score, precision_score\n",
    "import seaborn as sns\n",
    "\n",
    "import plotly.graph_objects as go\n",
    "from plotly.subplots import make_subplots"
   ]
  },
  {
   "attachments": {},
   "cell_type": "markdown",
   "metadata": {},
   "source": [
    "### **Dataset**"
   ]
  },
  {
   "cell_type": "code",
   "execution_count": 2,
   "metadata": {},
   "outputs": [
    {
     "name": "stdout",
     "output_type": "stream",
     "text": [
      "Name:  41\n",
      "No Name:  218\n"
     ]
    },
    {
     "data": {
      "text/html": [
       "<div>\n",
       "<style scoped>\n",
       "    .dataframe tbody tr th:only-of-type {\n",
       "        vertical-align: middle;\n",
       "    }\n",
       "\n",
       "    .dataframe tbody tr th {\n",
       "        vertical-align: top;\n",
       "    }\n",
       "\n",
       "    .dataframe thead th {\n",
       "        text-align: right;\n",
       "    }\n",
       "</style>\n",
       "<table border=\"1\" class=\"dataframe\">\n",
       "  <thead>\n",
       "    <tr style=\"text-align: right;\">\n",
       "      <th></th>\n",
       "      <th>text</th>\n",
       "      <th>target</th>\n",
       "    </tr>\n",
       "  </thead>\n",
       "  <tbody>\n",
       "    <tr>\n",
       "      <th>0</th>\n",
       "      <td>What is your name?</td>\n",
       "      <td>1</td>\n",
       "    </tr>\n",
       "    <tr>\n",
       "      <th>1</th>\n",
       "      <td>Who are you?</td>\n",
       "      <td>1</td>\n",
       "    </tr>\n",
       "    <tr>\n",
       "      <th>2</th>\n",
       "      <td>What's your name?</td>\n",
       "      <td>1</td>\n",
       "    </tr>\n",
       "    <tr>\n",
       "      <th>3</th>\n",
       "      <td>Can I have your name?</td>\n",
       "      <td>1</td>\n",
       "    </tr>\n",
       "    <tr>\n",
       "      <th>4</th>\n",
       "      <td>Can you tell me your name?</td>\n",
       "      <td>1</td>\n",
       "    </tr>\n",
       "    <tr>\n",
       "      <th>...</th>\n",
       "      <td>...</td>\n",
       "      <td>...</td>\n",
       "    </tr>\n",
       "    <tr>\n",
       "      <th>254</th>\n",
       "      <td>Thank you</td>\n",
       "      <td>0</td>\n",
       "    </tr>\n",
       "    <tr>\n",
       "      <th>255</th>\n",
       "      <td>Goodbye</td>\n",
       "      <td>0</td>\n",
       "    </tr>\n",
       "    <tr>\n",
       "      <th>256</th>\n",
       "      <td>How can you help me?</td>\n",
       "      <td>0</td>\n",
       "    </tr>\n",
       "    <tr>\n",
       "      <th>257</th>\n",
       "      <td>what can you do?</td>\n",
       "      <td>0</td>\n",
       "    </tr>\n",
       "    <tr>\n",
       "      <th>258</th>\n",
       "      <td>can you help me?</td>\n",
       "      <td>0</td>\n",
       "    </tr>\n",
       "  </tbody>\n",
       "</table>\n",
       "<p>259 rows × 2 columns</p>\n",
       "</div>"
      ],
      "text/plain": [
       "                           text  target\n",
       "0            What is your name?       1\n",
       "1                  Who are you?       1\n",
       "2             What's your name?       1\n",
       "3         Can I have your name?       1\n",
       "4    Can you tell me your name?       1\n",
       "..                          ...     ...\n",
       "254                   Thank you       0\n",
       "255                    Goodbye        0\n",
       "256        How can you help me?       0\n",
       "257            what can you do?       0\n",
       "258            can you help me?       0\n",
       "\n",
       "[259 rows x 2 columns]"
      ]
     },
     "metadata": {},
     "output_type": "display_data"
    }
   ],
   "source": [
    "df = pd.read_csv(r'questions.csv')\n",
    "df.columns =['text', 'target']\n",
    "print(\"Name: \", (df.target == 1).sum()) # Name\n",
    "print(\"No Name: \", (df.target == 0).sum()) # No Name\n",
    "display(df)\n",
    "\n"
   ]
  },
  {
   "cell_type": "code",
   "execution_count": 3,
   "metadata": {},
   "outputs": [],
   "source": [
    "def remove_punct(text):\n",
    "    translator = str.maketrans(\"\", \"\", string.punctuation.replace(\"'\", \"\"))\n",
    "    return text.translate(translator)"
   ]
  },
  {
   "attachments": {},
   "cell_type": "markdown",
   "metadata": {},
   "source": [
    "### **Preprocessing**"
   ]
  },
  {
   "cell_type": "code",
   "execution_count": 4,
   "metadata": {},
   "outputs": [],
   "source": [
    "X_train, X_test, y_train, y_test = train_test_split(df.text, df.target, test_size=0.2, random_state=2023, stratify=df.target)\n",
    "X_train, X_val, y_train, y_val = train_test_split(X_train, y_train, test_size=0.2, random_state=2023, stratify=y_train) # 0.25 x 0.8 = 0.2"
   ]
  },
  {
   "cell_type": "code",
   "execution_count": 5,
   "metadata": {},
   "outputs": [],
   "source": [
    "X_train = X_train.to_numpy()\n",
    "X_test = X_test.to_numpy()\n",
    "Y_train = y_train.to_numpy()\n",
    "Y_test = y_test.to_numpy()\n",
    "X_val = X_val.to_numpy()\n",
    "y_val = y_val.to_numpy()"
   ]
  },
  {
   "cell_type": "code",
   "execution_count": 6,
   "metadata": {},
   "outputs": [
    {
     "data": {
      "text/plain": [
       "22"
      ]
     },
     "execution_count": 6,
     "metadata": {},
     "output_type": "execute_result"
    }
   ],
   "source": [
    "maxLen = len(max(X_train, key=len).split()) + 5\n",
    "maxLen"
   ]
  },
  {
   "attachments": {},
   "cell_type": "markdown",
   "metadata": {},
   "source": [
    "### **Tokenizer**"
   ]
  },
  {
   "cell_type": "code",
   "execution_count": 7,
   "metadata": {},
   "outputs": [],
   "source": [
    "# GRADED FUNCTION: sentences_to_indices\n",
    "\n",
    "def sentences_to_indices(X, word_to_index, max_len):\n",
    "    \"\"\"\n",
    "    Converts an array of sentences (strings) into an array of indices corresponding to words in the sentences.\n",
    "    The output shape should be such that it can be given to `Embedding()`. \n",
    "    \n",
    "    Arguments:\n",
    "    X -- array of sentences (strings), of shape (m, 1)\n",
    "    word_to_index -- a dictionary containing the each word mapped to its index\n",
    "    max_len -- maximum number of words in a sentence. You can assume every sentence in X is no longer than this. \n",
    "    \n",
    "    Returns:\n",
    "    X_indices -- array of indices corresponding to words in the sentences from X, of shape (m, max_len)\n",
    "    \"\"\"\n",
    "    m = X.shape[0]                                   # number of training examples\n",
    "    \n",
    "    ### START CODE HERE ###\n",
    "    # Initialize X_indices as a numpy matrix of zeros and the correct shape (≈ 1 line)\n",
    "    X_indices = np.zeros((m, max_len))\n",
    "    lst=[]\n",
    "    for i in range(m):                               # loop over training examples\n",
    "        \n",
    "        # Convert the ith training sentence in lower case and split is into words. You should get a list of words.\n",
    "        sentence_words =X[i].lower().replace(\"can't\", \" can not\")\\\n",
    "                            .replace(\"n't\", \" not\")\\\n",
    "                            .replace(\"'s\", \" is\")\\\n",
    "                            .replace(\"'ll\", \" will\")\\\n",
    "                            .replace(\"'ve\", \" have\")\\\n",
    "                            .replace(\"'re\", \" are\")\\\n",
    "                            .replace(\"'m\", \" am\")\\\n",
    "                            .replace(\"'d\", \" would\")\\\n",
    "                            .replace(\"-\", \" \")\\\n",
    "                            .replace(\"\\x97\", \" \")\\\n",
    "                            .split()\n",
    "              \n",
    "        # Initialize j to 0\n",
    "        j = 0\n",
    "\n",
    "        # Loop over the words of \n",
    "        \n",
    "        for w in sentence_words:\n",
    "            # print(remove_punct(w.lower()))\n",
    "            if remove_punct(w.lower()) in word_to_index:\n",
    "                # Set the (i,j)th entry of X_indices to the index of the correct word.\n",
    "\n",
    "                X_indices[i, j] = word_to_index[remove_punct(w.lower())]\n",
    "\n",
    "                # Increment j to j + 1\n",
    "                j = j + 1\n",
    "            else:\n",
    "                lst.append(w)\n",
    "                j = j + 1\n",
    "\n",
    "    return X_indices"
   ]
  },
  {
   "attachments": {},
   "cell_type": "markdown",
   "metadata": {},
   "source": [
    "### **The Embedding layer**"
   ]
  },
  {
   "cell_type": "code",
   "execution_count": 8,
   "metadata": {},
   "outputs": [],
   "source": [
    "def read_glove_vecs(glove_file):\n",
    "    with open(glove_file, 'r',encoding='UTF-8') as f:\n",
    "        words = set()\n",
    "        word_to_vec_map = {}\n",
    "        for line in f:\n",
    "            line = line.strip().split()\n",
    "            curr_word = line[0]\n",
    "            words.add(curr_word)\n",
    "            word_to_vec_map[curr_word] = np.array(line[1:], dtype=np.float64)\n",
    "        \n",
    "        i = 1\n",
    "        words_to_index = {}\n",
    "        index_to_words = {}\n",
    "        for w in sorted(words):\n",
    "            words_to_index[w] = i\n",
    "            index_to_words[i] = w\n",
    "            i = i + 1\n",
    "    return words_to_index, index_to_words, word_to_vec_map"
   ]
  },
  {
   "cell_type": "code",
   "execution_count": 9,
   "metadata": {},
   "outputs": [],
   "source": [
    "word_to_index, index_to_word, word_to_vec_map = read_glove_vecs('glove.6B.50d.txt')"
   ]
  },
  {
   "cell_type": "code",
   "execution_count": 10,
   "metadata": {},
   "outputs": [],
   "source": [
    "# GRADED FUNCTION: pretrained_embedding_layer\n",
    "\n",
    "def pretrained_embedding_layer(word_to_vec_map, word_to_index):\n",
    "    \"\"\"\n",
    "    Creates a Keras Embedding() layer and loads in pre-trained GloVe 50-dimensional vectors.\n",
    "    \n",
    "    Arguments:\n",
    "    word_to_vec_map -- dictionary mapping words to their GloVe vector representation.\n",
    "    word_to_index -- dictionary mapping from words to their indices in the vocabulary (400,001 words)\n",
    "\n",
    "    Returns:\n",
    "    embedding_layer -- pretrained layer Keras instance\n",
    "    \"\"\"\n",
    "    \n",
    "    vocab_len = len(word_to_index) + 1                  # adding 1 to fit Keras embedding (requirement)\n",
    "    emb_dim = word_to_vec_map[\"cucumber\"].shape[0]      # define dimensionality of your GloVe word vectors (= 50)\n",
    "    \n",
    "    ### START CODE HERE ###\n",
    "    # Initialize the embedding matrix as a numpy array of zeros of shape (vocab_len, dimensions of word vectors = emb_dim)\n",
    "    emb_matrix = np.zeros((vocab_len, emb_dim))\n",
    "    \n",
    "    # Set each row \"index\" of the embedding matrix to be the word vector representation of the \"index\"th word of the vocabulary\n",
    "    for word, index in word_to_index.items():\n",
    "        emb_matrix[index, :] = word_to_vec_map[word]\n",
    "\n",
    "    # Define Keras embedding layer with the correct output/input sizes, make it trainable. Use Embedding(...). Make sure to set trainable=False. \n",
    "    embedding_layer = Embedding(vocab_len, emb_dim, trainable=False)\n",
    "    ### END CODE HERE ###\n",
    "\n",
    "    # Build the embedding layer, it is required before setting the weights of the embedding layer. Do not modify the \"None\".\n",
    "    embedding_layer.build((None,))\n",
    "    \n",
    "    # Set the weights of the embedding layer to the embedding matrix. Your layer is now pretrained.\n",
    "    embedding_layer.set_weights([emb_matrix])\n",
    "    \n",
    "    return embedding_layer"
   ]
  },
  {
   "cell_type": "code",
   "execution_count": 11,
   "metadata": {},
   "outputs": [
    {
     "name": "stderr",
     "output_type": "stream",
     "text": [
      "2023-02-14 17:37:26.017766: W tensorflow/compiler/xla/stream_executor/platform/default/dso_loader.cc:64] Could not load dynamic library 'libcuda.so.1'; dlerror: libcuda.so.1: cannot open shared object file: No such file or directory\n",
      "2023-02-14 17:37:26.017823: W tensorflow/compiler/xla/stream_executor/cuda/cuda_driver.cc:265] failed call to cuInit: UNKNOWN ERROR (303)\n",
      "2023-02-14 17:37:26.017845: I tensorflow/compiler/xla/stream_executor/cuda/cuda_diagnostics.cc:156] kernel driver does not appear to be running on this host (DESKTOP-2RMTEVU): /proc/driver/nvidia/version does not exist\n",
      "2023-02-14 17:37:26.018101: I tensorflow/core/platform/cpu_feature_guard.cc:193] This TensorFlow binary is optimized with oneAPI Deep Neural Network Library (oneDNN) to use the following CPU instructions in performance-critical operations:  AVX2 FMA\n",
      "To enable them in other operations, rebuild TensorFlow with the appropriate compiler flags.\n",
      "2023-02-14 17:37:26.054685: W tensorflow/tsl/framework/cpu_allocator_impl.cc:82] Allocation of 80000200 exceeds 10% of free system memory.\n",
      "2023-02-14 17:37:26.081244: W tensorflow/tsl/framework/cpu_allocator_impl.cc:82] Allocation of 80000200 exceeds 10% of free system memory.\n",
      "2023-02-14 17:37:26.101180: W tensorflow/tsl/framework/cpu_allocator_impl.cc:82] Allocation of 80000200 exceeds 10% of free system memory.\n",
      "2023-02-14 17:37:26.201640: W tensorflow/tsl/framework/cpu_allocator_impl.cc:82] Allocation of 80000200 exceeds 10% of free system memory.\n"
     ]
    },
    {
     "name": "stdout",
     "output_type": "stream",
     "text": [
      "weights[0][1][3] = -0.3403\n"
     ]
    }
   ],
   "source": [
    "embedding_layer = pretrained_embedding_layer(word_to_vec_map, word_to_index)\n",
    "print(\"weights[0][1][3] =\", embedding_layer.get_weights()[0][1][3])"
   ]
  },
  {
   "attachments": {},
   "cell_type": "markdown",
   "metadata": {},
   "source": [
    "### **Building the model**"
   ]
  },
  {
   "cell_type": "code",
   "execution_count": 12,
   "metadata": {},
   "outputs": [],
   "source": [
    "def convert_to_one_hot(y):\n",
    "    \"\"\"\n",
    "    converts y into one hot reprsentation.\n",
    "\n",
    "    Parameters\n",
    "    ----------\n",
    "    y : list\n",
    "        A list containing continous integer values.\n",
    "\n",
    "    Returns\n",
    "    -------\n",
    "    one_hot : numpy.ndarray\n",
    "        A numpy.ndarray object, which is one-hot representation of y.\n",
    "\n",
    "    \"\"\"\n",
    "    max_value = max(y)\n",
    "    min_value = min(y)\n",
    "    length = len(y)\n",
    "    one_hot = np.zeros((length, (max_value - min_value + 1)))\n",
    "    one_hot[np.arange(length), y] = 1\n",
    "    return one_hot "
   ]
  },
  {
   "cell_type": "code",
   "execution_count": 13,
   "metadata": {},
   "outputs": [],
   "source": [
    "# GRADED FUNCTION: Classify\n",
    "\n",
    "def Classify(input_shape, word_to_vec_map, word_to_index):\n",
    "    \"\"\"\n",
    "    Function creating the Classify model's graph.\n",
    "    \n",
    "    Arguments:\n",
    "    input_shape -- shape of the input, usually (max_len,)\n",
    "    word_to_vec_map -- dictionary mapping every word in a vocabulary into its 50-dimensional vector representation\n",
    "    word_to_index -- dictionary mapping from words to their indices in the vocabulary (400,001 words)\n",
    "\n",
    "    Returns:\n",
    "    model -- a model instance in Keras\n",
    "    \"\"\"\n",
    "    \n",
    "    ### START CODE HERE ###\n",
    "    # Define sentence_indices as the input of the graph, it should be of shape input_shape and dtype 'int32' (as it contains indices).\n",
    "    sentence_indices = Input(input_shape, dtype='int32')\n",
    "    \n",
    "    # Create the embedding layer pretrained with GloVe Vectors (≈1 line)\n",
    "    embedding_layer = pretrained_embedding_layer(word_to_vec_map, word_to_index)\n",
    "    \n",
    "    # Propagate sentence_indices through your embedding layer, you get back the embeddings\n",
    "    embeddings = embedding_layer(sentence_indices)    \n",
    "    \n",
    "    # Propagate the embeddings through an LSTM layer with 128-dimensional hidden state\n",
    "    # Be careful, the returned output should be a batch of sequences.\n",
    "    X = LSTM(128, return_sequences=True)(embeddings)\n",
    "    # Add dropout with a probability of 0.5\n",
    "    X = Dropout(0.5)(X)\n",
    "    # Propagate X trough another LSTM layer with 128-dimensional hidden state\n",
    "    # Be careful, the returned output should be a single hidden state, not a batch of sequences.\n",
    "    X = LSTM(64, return_sequences=False)(X)\n",
    "    # Add dropout with a probability of 0.5\n",
    "    X = Dropout(0.5)(X)\n",
    "    # Propagate X through a Dense layer with sigmoid activation\n",
    "    X = Dense(2)(X)\n",
    "    # Add a sigmoid activation\n",
    "    X = Activation('sigmoid')(X)\n",
    "    \n",
    "    # Create Model instance which converts sentence_indices into X.\n",
    "    model = Model(inputs=sentence_indices, outputs=X)\n",
    "    \n",
    "    ### END CODE HERE ###\n",
    "    \n",
    "    return model"
   ]
  },
  {
   "cell_type": "code",
   "execution_count": 14,
   "metadata": {},
   "outputs": [
    {
     "name": "stderr",
     "output_type": "stream",
     "text": [
      "2023-02-14 17:37:27.120862: W tensorflow/tsl/framework/cpu_allocator_impl.cc:82] Allocation of 80000200 exceeds 10% of free system memory.\n"
     ]
    },
    {
     "name": "stdout",
     "output_type": "stream",
     "text": [
      "Model: \"model\"\n",
      "_________________________________________________________________\n",
      " Layer (type)                Output Shape              Param #   \n",
      "=================================================================\n",
      " input_1 (InputLayer)        [(None, 22)]              0         \n",
      "                                                                 \n",
      " embedding_1 (Embedding)     (None, 22, 50)            20000050  \n",
      "                                                                 \n",
      " lstm (LSTM)                 (None, 22, 128)           91648     \n",
      "                                                                 \n",
      " dropout (Dropout)           (None, 22, 128)           0         \n",
      "                                                                 \n",
      " lstm_1 (LSTM)               (None, 64)                49408     \n",
      "                                                                 \n",
      " dropout_1 (Dropout)         (None, 64)                0         \n",
      "                                                                 \n",
      " dense (Dense)               (None, 2)                 130       \n",
      "                                                                 \n",
      " activation (Activation)     (None, 2)                 0         \n",
      "                                                                 \n",
      "=================================================================\n",
      "Total params: 20,141,236\n",
      "Trainable params: 141,186\n",
      "Non-trainable params: 20,000,050\n",
      "_________________________________________________________________\n"
     ]
    }
   ],
   "source": [
    "X_train_indice = sentences_to_indices(X_train, word_to_index, maxLen)\n",
    "Y_train_oh = convert_to_one_hot(Y_train)\n",
    "\n",
    "X_val_indice = sentences_to_indices(X_val, word_to_index, maxLen)\n",
    "Y_val_oh = convert_to_one_hot(y_val)\n",
    "\n",
    "\n",
    "model = Classify((maxLen,), word_to_vec_map, word_to_index)\n",
    "model.summary()"
   ]
  },
  {
   "cell_type": "code",
   "execution_count": 15,
   "metadata": {},
   "outputs": [
    {
     "name": "stdout",
     "output_type": "stream",
     "text": [
      "Epoch 1/70\n",
      "9/9 [==============================] - 5s 187ms/step - loss: 0.5706 - accuracy: 0.7758 - val_loss: 0.4718 - val_accuracy: 0.8333\n",
      "Epoch 2/70\n",
      "9/9 [==============================] - 1s 58ms/step - loss: 0.4529 - accuracy: 0.8424 - val_loss: 0.4530 - val_accuracy: 0.8333\n",
      "Epoch 3/70\n",
      "9/9 [==============================] - 1s 66ms/step - loss: 0.4510 - accuracy: 0.8424 - val_loss: 0.4511 - val_accuracy: 0.8333\n",
      "Epoch 4/70\n",
      "9/9 [==============================] - 0s 48ms/step - loss: 0.4471 - accuracy: 0.8424 - val_loss: 0.4514 - val_accuracy: 0.8333\n",
      "Epoch 5/70\n",
      "9/9 [==============================] - 1s 62ms/step - loss: 0.4570 - accuracy: 0.8424 - val_loss: 0.4366 - val_accuracy: 0.8333\n",
      "Epoch 6/70\n",
      "9/9 [==============================] - 1s 64ms/step - loss: 0.4208 - accuracy: 0.8424 - val_loss: 0.4317 - val_accuracy: 0.8333\n",
      "Epoch 7/70\n",
      "9/9 [==============================] - 0s 56ms/step - loss: 0.3626 - accuracy: 0.8485 - val_loss: 0.4613 - val_accuracy: 0.8333\n",
      "Epoch 8/70\n",
      "9/9 [==============================] - 0s 55ms/step - loss: 0.3250 - accuracy: 0.8545 - val_loss: 0.3962 - val_accuracy: 0.7857\n",
      "Epoch 9/70\n",
      "9/9 [==============================] - 0s 44ms/step - loss: 0.2856 - accuracy: 0.8727 - val_loss: 0.4565 - val_accuracy: 0.8571\n",
      "Epoch 10/70\n",
      "9/9 [==============================] - 0s 43ms/step - loss: 0.2786 - accuracy: 0.8848 - val_loss: 0.4940 - val_accuracy: 0.8333\n",
      "Epoch 11/70\n",
      "9/9 [==============================] - 0s 49ms/step - loss: 0.2571 - accuracy: 0.8788 - val_loss: 0.4158 - val_accuracy: 0.8810\n",
      "Epoch 12/70\n",
      "9/9 [==============================] - 1s 65ms/step - loss: 0.1972 - accuracy: 0.9273 - val_loss: 0.3178 - val_accuracy: 0.8571\n",
      "Epoch 13/70\n",
      "9/9 [==============================] - 0s 53ms/step - loss: 0.1562 - accuracy: 0.9273 - val_loss: 0.2230 - val_accuracy: 0.9048\n",
      "Epoch 14/70\n",
      "9/9 [==============================] - 0s 47ms/step - loss: 0.1319 - accuracy: 0.9576 - val_loss: 0.4506 - val_accuracy: 0.8810\n",
      "Epoch 15/70\n",
      "9/9 [==============================] - 1s 64ms/step - loss: 0.0716 - accuracy: 0.9818 - val_loss: 0.2095 - val_accuracy: 0.9524\n",
      "Epoch 16/70\n",
      "9/9 [==============================] - 0s 53ms/step - loss: 0.0600 - accuracy: 0.9758 - val_loss: 0.2299 - val_accuracy: 0.9524\n",
      "Epoch 17/70\n",
      "9/9 [==============================] - 0s 49ms/step - loss: 0.1343 - accuracy: 0.9515 - val_loss: 0.2310 - val_accuracy: 0.8810\n",
      "Epoch 18/70\n",
      "9/9 [==============================] - 0s 49ms/step - loss: 0.3801 - accuracy: 0.8242 - val_loss: 0.8631 - val_accuracy: 0.8571\n",
      "Epoch 19/70\n",
      "9/9 [==============================] - 0s 54ms/step - loss: 0.7264 - accuracy: 0.8667 - val_loss: 0.5658 - val_accuracy: 0.8333\n",
      "Epoch 20/70\n",
      "9/9 [==============================] - 1s 56ms/step - loss: 0.2956 - accuracy: 0.8970 - val_loss: 0.2827 - val_accuracy: 0.9286\n",
      "Epoch 21/70\n",
      "9/9 [==============================] - 0s 55ms/step - loss: 0.2414 - accuracy: 0.9455 - val_loss: 0.2663 - val_accuracy: 0.9048\n",
      "Epoch 22/70\n",
      "9/9 [==============================] - 0s 49ms/step - loss: 0.1464 - accuracy: 0.9515 - val_loss: 0.2486 - val_accuracy: 0.9048\n",
      "Epoch 23/70\n",
      "9/9 [==============================] - 0s 52ms/step - loss: 0.1250 - accuracy: 0.9576 - val_loss: 0.2824 - val_accuracy: 0.9048\n",
      "Epoch 24/70\n",
      "9/9 [==============================] - 1s 65ms/step - loss: 0.0883 - accuracy: 0.9758 - val_loss: 0.1439 - val_accuracy: 0.9762\n",
      "Epoch 25/70\n",
      "9/9 [==============================] - 0s 53ms/step - loss: 0.0640 - accuracy: 0.9879 - val_loss: 0.1541 - val_accuracy: 0.9762\n",
      "Epoch 26/70\n",
      "9/9 [==============================] - 1s 61ms/step - loss: 0.0515 - accuracy: 0.9939 - val_loss: 0.1554 - val_accuracy: 0.9762\n",
      "Epoch 27/70\n",
      "9/9 [==============================] - 0s 52ms/step - loss: 0.0379 - accuracy: 0.9939 - val_loss: 0.1624 - val_accuracy: 0.9524\n",
      "Epoch 28/70\n",
      "9/9 [==============================] - 0s 48ms/step - loss: 0.0304 - accuracy: 0.9939 - val_loss: 0.1831 - val_accuracy: 0.9286\n",
      "Epoch 29/70\n",
      "9/9 [==============================] - 0s 50ms/step - loss: 0.0211 - accuracy: 1.0000 - val_loss: 0.1698 - val_accuracy: 0.9524\n",
      "Epoch 30/70\n",
      "9/9 [==============================] - 0s 48ms/step - loss: 0.0161 - accuracy: 1.0000 - val_loss: 0.1594 - val_accuracy: 0.9524\n",
      "Epoch 31/70\n",
      "9/9 [==============================] - 0s 55ms/step - loss: 0.0138 - accuracy: 1.0000 - val_loss: 0.1827 - val_accuracy: 0.9524\n",
      "Epoch 32/70\n",
      "9/9 [==============================] - 0s 53ms/step - loss: 0.0093 - accuracy: 1.0000 - val_loss: 0.2048 - val_accuracy: 0.9524\n",
      "Epoch 33/70\n",
      "9/9 [==============================] - 0s 50ms/step - loss: 0.0072 - accuracy: 1.0000 - val_loss: 0.2126 - val_accuracy: 0.9524\n",
      "Epoch 34/70\n",
      "9/9 [==============================] - 0s 48ms/step - loss: 0.0080 - accuracy: 1.0000 - val_loss: 0.2214 - val_accuracy: 0.9524\n",
      "Epoch 35/70\n",
      "9/9 [==============================] - 0s 50ms/step - loss: 0.0079 - accuracy: 1.0000 - val_loss: 0.2310 - val_accuracy: 0.9524\n",
      "Epoch 36/70\n",
      "9/9 [==============================] - 0s 48ms/step - loss: 0.0062 - accuracy: 1.0000 - val_loss: 0.2349 - val_accuracy: 0.9524\n",
      "Epoch 37/70\n",
      "9/9 [==============================] - 0s 48ms/step - loss: 0.0053 - accuracy: 1.0000 - val_loss: 0.2484 - val_accuracy: 0.9524\n",
      "Epoch 38/70\n",
      "9/9 [==============================] - 0s 50ms/step - loss: 0.0049 - accuracy: 1.0000 - val_loss: 0.2639 - val_accuracy: 0.9286\n",
      "Epoch 39/70\n",
      "9/9 [==============================] - 1s 59ms/step - loss: 0.0042 - accuracy: 1.0000 - val_loss: 0.2754 - val_accuracy: 0.9286\n"
     ]
    }
   ],
   "source": [
    "model.compile(loss= 'binary_crossentropy', optimizer='adam', metrics=['accuracy'])\n",
    "# earlyStopCallBack = callbacks.EarlyStopping(monitor='val_loss', patience=23,restore_best_weights = True,mode =\"min\", verbose=1)\n",
    "earlyStopCallBack = callbacks.EarlyStopping(monitor='val_loss',patience=15,restore_best_weights = True)\n",
    "history= model.fit(X_train_indice, Y_train_oh, validation_data=(X_val_indice, Y_val_oh), epochs = 70 , batch_size = 20, callbacks=earlyStopCallBack)"
   ]
  },
  {
   "cell_type": "code",
   "execution_count": 16,
   "metadata": {},
   "outputs": [
    {
     "data": {
      "application/vnd.plotly.v1+json": {
       "config": {
        "plotlyServerURL": "https://plot.ly"
       },
       "data": [
        {
         "name": "val_loss",
         "type": "scatter",
         "xaxis": "x",
         "y": [
          0.4717666506767273,
          0.453029990196228,
          0.45106443762779236,
          0.4513721466064453,
          0.436616450548172,
          0.4317375421524048,
          0.46131759881973267,
          0.39624476432800293,
          0.4565202593803406,
          0.49402886629104614,
          0.4158387780189514,
          0.3178200423717499,
          0.22298499941825867,
          0.4505678415298462,
          0.20947833359241486,
          0.22989559173583984,
          0.2310202419757843,
          0.8630536198616028,
          0.5658270716667175,
          0.28274601697921753,
          0.2662861943244934,
          0.2485572248697281,
          0.2823573648929596,
          0.14394184947013855,
          0.15413080155849457,
          0.15543101727962494,
          0.16237607598304749,
          0.18314377963542938,
          0.1697850078344345,
          0.15935158729553223,
          0.18270015716552734,
          0.20481865108013153,
          0.21264556050300598,
          0.22137469053268433,
          0.2309659719467163,
          0.2349296510219574,
          0.24841533601284027,
          0.2639071047306061,
          0.2754134237766266
         ],
         "yaxis": "y"
        },
        {
         "name": "loss",
         "type": "scatter",
         "xaxis": "x",
         "y": [
          0.5705955624580383,
          0.45292285084724426,
          0.450980544090271,
          0.44713208079338074,
          0.4570106863975525,
          0.4207777678966522,
          0.36262646317481995,
          0.32504191994667053,
          0.28555989265441895,
          0.2785588204860687,
          0.25713443756103516,
          0.19724591076374054,
          0.1561795324087143,
          0.13185586035251617,
          0.07158255577087402,
          0.059983715415000916,
          0.13429059088230133,
          0.38013407588005066,
          0.7263975739479065,
          0.29560327529907227,
          0.24144943058490753,
          0.14640438556671143,
          0.1250120997428894,
          0.08830402046442032,
          0.06400306522846222,
          0.0514884777367115,
          0.03789030387997627,
          0.03040056861937046,
          0.02108192816376686,
          0.016064247116446495,
          0.013822510838508606,
          0.00930030457675457,
          0.00720189418643713,
          0.007979915477335453,
          0.007850726135075092,
          0.00619816780090332,
          0.005256313364952803,
          0.0049270871095359325,
          0.0041784788481891155
         ],
         "yaxis": "y"
        },
        {
         "name": "val accuracy",
         "type": "scatter",
         "xaxis": "x",
         "y": [
          0.8333333134651184,
          0.8333333134651184,
          0.8333333134651184,
          0.8333333134651184,
          0.8333333134651184,
          0.8333333134651184,
          0.8333333134651184,
          0.7857142686843872,
          0.8571428656578064,
          0.8333333134651184,
          0.8809523582458496,
          0.8571428656578064,
          0.9047619104385376,
          0.8809523582458496,
          0.9523809552192688,
          0.9523809552192688,
          0.8809523582458496,
          0.8571428656578064,
          0.8333333134651184,
          0.9285714030265808,
          0.9047619104385376,
          0.9047619104385376,
          0.9047619104385376,
          0.976190447807312,
          0.976190447807312,
          0.976190447807312,
          0.9523809552192688,
          0.9285714030265808,
          0.9523809552192688,
          0.9523809552192688,
          0.9523809552192688,
          0.9523809552192688,
          0.9523809552192688,
          0.9523809552192688,
          0.9523809552192688,
          0.9523809552192688,
          0.9523809552192688,
          0.9285714030265808,
          0.9285714030265808
         ],
         "yaxis": "y2"
        },
        {
         "name": "accuracy",
         "type": "scatter",
         "xaxis": "x",
         "y": [
          0.7757575511932373,
          0.842424213886261,
          0.842424213886261,
          0.842424213886261,
          0.842424213886261,
          0.842424213886261,
          0.8484848737716675,
          0.8545454740524292,
          0.8727272748947144,
          0.8848484754562378,
          0.8787878751754761,
          0.9272727370262146,
          0.9272727370262146,
          0.9575757384300232,
          0.9818181991577148,
          0.9757575988769531,
          0.9515151381492615,
          0.8242424130439758,
          0.8666666746139526,
          0.8969696760177612,
          0.9454545378684998,
          0.9515151381492615,
          0.9575757384300232,
          0.9757575988769531,
          0.9878787994384766,
          0.9939393997192383,
          0.9939393997192383,
          0.9939393997192383,
          1,
          1,
          1,
          1,
          1,
          1,
          1,
          1,
          1,
          1,
          1
         ],
         "yaxis": "y2"
        }
       ],
       "layout": {
        "template": {
         "data": {
          "bar": [
           {
            "error_x": {
             "color": "#2a3f5f"
            },
            "error_y": {
             "color": "#2a3f5f"
            },
            "marker": {
             "line": {
              "color": "#E5ECF6",
              "width": 0.5
             },
             "pattern": {
              "fillmode": "overlay",
              "size": 10,
              "solidity": 0.2
             }
            },
            "type": "bar"
           }
          ],
          "barpolar": [
           {
            "marker": {
             "line": {
              "color": "#E5ECF6",
              "width": 0.5
             },
             "pattern": {
              "fillmode": "overlay",
              "size": 10,
              "solidity": 0.2
             }
            },
            "type": "barpolar"
           }
          ],
          "carpet": [
           {
            "aaxis": {
             "endlinecolor": "#2a3f5f",
             "gridcolor": "white",
             "linecolor": "white",
             "minorgridcolor": "white",
             "startlinecolor": "#2a3f5f"
            },
            "baxis": {
             "endlinecolor": "#2a3f5f",
             "gridcolor": "white",
             "linecolor": "white",
             "minorgridcolor": "white",
             "startlinecolor": "#2a3f5f"
            },
            "type": "carpet"
           }
          ],
          "choropleth": [
           {
            "colorbar": {
             "outlinewidth": 0,
             "ticks": ""
            },
            "type": "choropleth"
           }
          ],
          "contour": [
           {
            "colorbar": {
             "outlinewidth": 0,
             "ticks": ""
            },
            "colorscale": [
             [
              0,
              "#0d0887"
             ],
             [
              0.1111111111111111,
              "#46039f"
             ],
             [
              0.2222222222222222,
              "#7201a8"
             ],
             [
              0.3333333333333333,
              "#9c179e"
             ],
             [
              0.4444444444444444,
              "#bd3786"
             ],
             [
              0.5555555555555556,
              "#d8576b"
             ],
             [
              0.6666666666666666,
              "#ed7953"
             ],
             [
              0.7777777777777778,
              "#fb9f3a"
             ],
             [
              0.8888888888888888,
              "#fdca26"
             ],
             [
              1,
              "#f0f921"
             ]
            ],
            "type": "contour"
           }
          ],
          "contourcarpet": [
           {
            "colorbar": {
             "outlinewidth": 0,
             "ticks": ""
            },
            "type": "contourcarpet"
           }
          ],
          "heatmap": [
           {
            "colorbar": {
             "outlinewidth": 0,
             "ticks": ""
            },
            "colorscale": [
             [
              0,
              "#0d0887"
             ],
             [
              0.1111111111111111,
              "#46039f"
             ],
             [
              0.2222222222222222,
              "#7201a8"
             ],
             [
              0.3333333333333333,
              "#9c179e"
             ],
             [
              0.4444444444444444,
              "#bd3786"
             ],
             [
              0.5555555555555556,
              "#d8576b"
             ],
             [
              0.6666666666666666,
              "#ed7953"
             ],
             [
              0.7777777777777778,
              "#fb9f3a"
             ],
             [
              0.8888888888888888,
              "#fdca26"
             ],
             [
              1,
              "#f0f921"
             ]
            ],
            "type": "heatmap"
           }
          ],
          "heatmapgl": [
           {
            "colorbar": {
             "outlinewidth": 0,
             "ticks": ""
            },
            "colorscale": [
             [
              0,
              "#0d0887"
             ],
             [
              0.1111111111111111,
              "#46039f"
             ],
             [
              0.2222222222222222,
              "#7201a8"
             ],
             [
              0.3333333333333333,
              "#9c179e"
             ],
             [
              0.4444444444444444,
              "#bd3786"
             ],
             [
              0.5555555555555556,
              "#d8576b"
             ],
             [
              0.6666666666666666,
              "#ed7953"
             ],
             [
              0.7777777777777778,
              "#fb9f3a"
             ],
             [
              0.8888888888888888,
              "#fdca26"
             ],
             [
              1,
              "#f0f921"
             ]
            ],
            "type": "heatmapgl"
           }
          ],
          "histogram": [
           {
            "marker": {
             "pattern": {
              "fillmode": "overlay",
              "size": 10,
              "solidity": 0.2
             }
            },
            "type": "histogram"
           }
          ],
          "histogram2d": [
           {
            "colorbar": {
             "outlinewidth": 0,
             "ticks": ""
            },
            "colorscale": [
             [
              0,
              "#0d0887"
             ],
             [
              0.1111111111111111,
              "#46039f"
             ],
             [
              0.2222222222222222,
              "#7201a8"
             ],
             [
              0.3333333333333333,
              "#9c179e"
             ],
             [
              0.4444444444444444,
              "#bd3786"
             ],
             [
              0.5555555555555556,
              "#d8576b"
             ],
             [
              0.6666666666666666,
              "#ed7953"
             ],
             [
              0.7777777777777778,
              "#fb9f3a"
             ],
             [
              0.8888888888888888,
              "#fdca26"
             ],
             [
              1,
              "#f0f921"
             ]
            ],
            "type": "histogram2d"
           }
          ],
          "histogram2dcontour": [
           {
            "colorbar": {
             "outlinewidth": 0,
             "ticks": ""
            },
            "colorscale": [
             [
              0,
              "#0d0887"
             ],
             [
              0.1111111111111111,
              "#46039f"
             ],
             [
              0.2222222222222222,
              "#7201a8"
             ],
             [
              0.3333333333333333,
              "#9c179e"
             ],
             [
              0.4444444444444444,
              "#bd3786"
             ],
             [
              0.5555555555555556,
              "#d8576b"
             ],
             [
              0.6666666666666666,
              "#ed7953"
             ],
             [
              0.7777777777777778,
              "#fb9f3a"
             ],
             [
              0.8888888888888888,
              "#fdca26"
             ],
             [
              1,
              "#f0f921"
             ]
            ],
            "type": "histogram2dcontour"
           }
          ],
          "mesh3d": [
           {
            "colorbar": {
             "outlinewidth": 0,
             "ticks": ""
            },
            "type": "mesh3d"
           }
          ],
          "parcoords": [
           {
            "line": {
             "colorbar": {
              "outlinewidth": 0,
              "ticks": ""
             }
            },
            "type": "parcoords"
           }
          ],
          "pie": [
           {
            "automargin": true,
            "type": "pie"
           }
          ],
          "scatter": [
           {
            "fillpattern": {
             "fillmode": "overlay",
             "size": 10,
             "solidity": 0.2
            },
            "type": "scatter"
           }
          ],
          "scatter3d": [
           {
            "line": {
             "colorbar": {
              "outlinewidth": 0,
              "ticks": ""
             }
            },
            "marker": {
             "colorbar": {
              "outlinewidth": 0,
              "ticks": ""
             }
            },
            "type": "scatter3d"
           }
          ],
          "scattercarpet": [
           {
            "marker": {
             "colorbar": {
              "outlinewidth": 0,
              "ticks": ""
             }
            },
            "type": "scattercarpet"
           }
          ],
          "scattergeo": [
           {
            "marker": {
             "colorbar": {
              "outlinewidth": 0,
              "ticks": ""
             }
            },
            "type": "scattergeo"
           }
          ],
          "scattergl": [
           {
            "marker": {
             "colorbar": {
              "outlinewidth": 0,
              "ticks": ""
             }
            },
            "type": "scattergl"
           }
          ],
          "scattermapbox": [
           {
            "marker": {
             "colorbar": {
              "outlinewidth": 0,
              "ticks": ""
             }
            },
            "type": "scattermapbox"
           }
          ],
          "scatterpolar": [
           {
            "marker": {
             "colorbar": {
              "outlinewidth": 0,
              "ticks": ""
             }
            },
            "type": "scatterpolar"
           }
          ],
          "scatterpolargl": [
           {
            "marker": {
             "colorbar": {
              "outlinewidth": 0,
              "ticks": ""
             }
            },
            "type": "scatterpolargl"
           }
          ],
          "scatterternary": [
           {
            "marker": {
             "colorbar": {
              "outlinewidth": 0,
              "ticks": ""
             }
            },
            "type": "scatterternary"
           }
          ],
          "surface": [
           {
            "colorbar": {
             "outlinewidth": 0,
             "ticks": ""
            },
            "colorscale": [
             [
              0,
              "#0d0887"
             ],
             [
              0.1111111111111111,
              "#46039f"
             ],
             [
              0.2222222222222222,
              "#7201a8"
             ],
             [
              0.3333333333333333,
              "#9c179e"
             ],
             [
              0.4444444444444444,
              "#bd3786"
             ],
             [
              0.5555555555555556,
              "#d8576b"
             ],
             [
              0.6666666666666666,
              "#ed7953"
             ],
             [
              0.7777777777777778,
              "#fb9f3a"
             ],
             [
              0.8888888888888888,
              "#fdca26"
             ],
             [
              1,
              "#f0f921"
             ]
            ],
            "type": "surface"
           }
          ],
          "table": [
           {
            "cells": {
             "fill": {
              "color": "#EBF0F8"
             },
             "line": {
              "color": "white"
             }
            },
            "header": {
             "fill": {
              "color": "#C8D4E3"
             },
             "line": {
              "color": "white"
             }
            },
            "type": "table"
           }
          ]
         },
         "layout": {
          "annotationdefaults": {
           "arrowcolor": "#2a3f5f",
           "arrowhead": 0,
           "arrowwidth": 1
          },
          "autotypenumbers": "strict",
          "coloraxis": {
           "colorbar": {
            "outlinewidth": 0,
            "ticks": ""
           }
          },
          "colorscale": {
           "diverging": [
            [
             0,
             "#8e0152"
            ],
            [
             0.1,
             "#c51b7d"
            ],
            [
             0.2,
             "#de77ae"
            ],
            [
             0.3,
             "#f1b6da"
            ],
            [
             0.4,
             "#fde0ef"
            ],
            [
             0.5,
             "#f7f7f7"
            ],
            [
             0.6,
             "#e6f5d0"
            ],
            [
             0.7,
             "#b8e186"
            ],
            [
             0.8,
             "#7fbc41"
            ],
            [
             0.9,
             "#4d9221"
            ],
            [
             1,
             "#276419"
            ]
           ],
           "sequential": [
            [
             0,
             "#0d0887"
            ],
            [
             0.1111111111111111,
             "#46039f"
            ],
            [
             0.2222222222222222,
             "#7201a8"
            ],
            [
             0.3333333333333333,
             "#9c179e"
            ],
            [
             0.4444444444444444,
             "#bd3786"
            ],
            [
             0.5555555555555556,
             "#d8576b"
            ],
            [
             0.6666666666666666,
             "#ed7953"
            ],
            [
             0.7777777777777778,
             "#fb9f3a"
            ],
            [
             0.8888888888888888,
             "#fdca26"
            ],
            [
             1,
             "#f0f921"
            ]
           ],
           "sequentialminus": [
            [
             0,
             "#0d0887"
            ],
            [
             0.1111111111111111,
             "#46039f"
            ],
            [
             0.2222222222222222,
             "#7201a8"
            ],
            [
             0.3333333333333333,
             "#9c179e"
            ],
            [
             0.4444444444444444,
             "#bd3786"
            ],
            [
             0.5555555555555556,
             "#d8576b"
            ],
            [
             0.6666666666666666,
             "#ed7953"
            ],
            [
             0.7777777777777778,
             "#fb9f3a"
            ],
            [
             0.8888888888888888,
             "#fdca26"
            ],
            [
             1,
             "#f0f921"
            ]
           ]
          },
          "colorway": [
           "#636efa",
           "#EF553B",
           "#00cc96",
           "#ab63fa",
           "#FFA15A",
           "#19d3f3",
           "#FF6692",
           "#B6E880",
           "#FF97FF",
           "#FECB52"
          ],
          "font": {
           "color": "#2a3f5f"
          },
          "geo": {
           "bgcolor": "white",
           "lakecolor": "white",
           "landcolor": "#E5ECF6",
           "showlakes": true,
           "showland": true,
           "subunitcolor": "white"
          },
          "hoverlabel": {
           "align": "left"
          },
          "hovermode": "closest",
          "mapbox": {
           "style": "light"
          },
          "paper_bgcolor": "white",
          "plot_bgcolor": "#E5ECF6",
          "polar": {
           "angularaxis": {
            "gridcolor": "white",
            "linecolor": "white",
            "ticks": ""
           },
           "bgcolor": "#E5ECF6",
           "radialaxis": {
            "gridcolor": "white",
            "linecolor": "white",
            "ticks": ""
           }
          },
          "scene": {
           "xaxis": {
            "backgroundcolor": "#E5ECF6",
            "gridcolor": "white",
            "gridwidth": 2,
            "linecolor": "white",
            "showbackground": true,
            "ticks": "",
            "zerolinecolor": "white"
           },
           "yaxis": {
            "backgroundcolor": "#E5ECF6",
            "gridcolor": "white",
            "gridwidth": 2,
            "linecolor": "white",
            "showbackground": true,
            "ticks": "",
            "zerolinecolor": "white"
           },
           "zaxis": {
            "backgroundcolor": "#E5ECF6",
            "gridcolor": "white",
            "gridwidth": 2,
            "linecolor": "white",
            "showbackground": true,
            "ticks": "",
            "zerolinecolor": "white"
           }
          },
          "shapedefaults": {
           "line": {
            "color": "#2a3f5f"
           }
          },
          "ternary": {
           "aaxis": {
            "gridcolor": "white",
            "linecolor": "white",
            "ticks": ""
           },
           "baxis": {
            "gridcolor": "white",
            "linecolor": "white",
            "ticks": ""
           },
           "bgcolor": "#E5ECF6",
           "caxis": {
            "gridcolor": "white",
            "linecolor": "white",
            "ticks": ""
           }
          },
          "title": {
           "x": 0.05
          },
          "xaxis": {
           "automargin": true,
           "gridcolor": "white",
           "linecolor": "white",
           "ticks": "",
           "title": {
            "standoff": 15
           },
           "zerolinecolor": "white",
           "zerolinewidth": 2
          },
          "yaxis": {
           "automargin": true,
           "gridcolor": "white",
           "linecolor": "white",
           "ticks": "",
           "title": {
            "standoff": 15
           },
           "zerolinecolor": "white",
           "zerolinewidth": 2
          }
         }
        },
        "title": {
         "text": "Loss/Accuracy of LSTM Model"
        },
        "xaxis": {
         "anchor": "y",
         "domain": [
          0,
          0.94
         ],
         "title": {
          "text": "Epoch"
         }
        },
        "yaxis": {
         "anchor": "x",
         "domain": [
          0,
          1
         ],
         "title": {
          "text": "<b>primary</b> Loss"
         }
        },
        "yaxis2": {
         "anchor": "x",
         "overlaying": "y",
         "side": "right",
         "title": {
          "text": "<b>secondary</b> Accuracy"
         }
        }
       }
      }
     },
     "metadata": {},
     "output_type": "display_data"
    }
   ],
   "source": [
    "# Create figure with secondary y-axis\n",
    "fig = make_subplots(specs=[[{\"secondary_y\": True}]])\n",
    "\n",
    "# Add traces\n",
    "fig.add_trace(\n",
    "    go.Scatter( y=history.history['val_loss'], name=\"val_loss\"),\n",
    "    secondary_y=False,\n",
    ")\n",
    "\n",
    "fig.add_trace(\n",
    "    go.Scatter( y=history.history['loss'], name=\"loss\"),\n",
    "    secondary_y=False,\n",
    ")\n",
    "\n",
    "fig.add_trace(\n",
    "    go.Scatter( y=history.history['val_accuracy'], name=\"val accuracy\"),\n",
    "    secondary_y=True,\n",
    ")\n",
    "\n",
    "fig.add_trace(\n",
    "    go.Scatter( y=history.history['accuracy'], name=\"accuracy\"),\n",
    "    secondary_y=True,\n",
    ")\n",
    "\n",
    "# Add figure title\n",
    "fig.update_layout(\n",
    "    title_text=\"Loss/Accuracy of LSTM Model\"\n",
    ")\n",
    "\n",
    "# Set x-axis title\n",
    "fig.update_xaxes(title_text=\"Epoch\")\n",
    "\n",
    "# Set y-axes titles\n",
    "fig.update_yaxes(title_text=\"<b>primary</b> Loss\", secondary_y=False)\n",
    "fig.update_yaxes(title_text=\"<b>secondary</b> Accuracy\", secondary_y=True)\n",
    "\n",
    "fig.show()"
   ]
  },
  {
   "cell_type": "code",
   "execution_count": 17,
   "metadata": {},
   "outputs": [
    {
     "name": "stdout",
     "output_type": "stream",
     "text": [
      "2/2 [==============================] - 0s 17ms/step - loss: 0.2910 - accuracy: 0.9038\n",
      "\n",
      "Test accuracy =  0.9038461446762085\n",
      "Test loss =  0.2910105288028717\n"
     ]
    }
   ],
   "source": [
    "X_test_indices = sentences_to_indices(X_test, word_to_index, max_len = maxLen)\n",
    "Y_test_oh = convert_to_one_hot(Y_test)\n",
    "loss, acc = model.evaluate(X_test_indices, Y_test_oh)\n",
    "print()\n",
    "print(\"Test accuracy = \", acc)\n",
    "print(\"Test loss = \", loss)"
   ]
  },
  {
   "cell_type": "code",
   "execution_count": 18,
   "metadata": {},
   "outputs": [
    {
     "name": "stdout",
     "output_type": "stream",
     "text": [
      "1/1 [==============================] - 1s 708ms/step\n",
      "1/1 [==============================] - 0s 25ms/step\n",
      "1/1 [==============================] - 0s 26ms/step\n",
      "1/1 [==============================] - 0s 25ms/step\n",
      "1/1 [==============================] - 0s 27ms/step\n",
      "1/1 [==============================] - 0s 23ms/step\n",
      "1/1 [==============================] - 0s 22ms/step\n",
      "1/1 [==============================] - 0s 24ms/step\n",
      "1/1 [==============================] - 0s 24ms/step\n",
      "1/1 [==============================] - 0s 23ms/step\n",
      "1/1 [==============================] - 0s 23ms/step\n",
      "1/1 [==============================] - 0s 23ms/step\n",
      "1/1 [==============================] - 0s 24ms/step\n",
      "1/1 [==============================] - 0s 23ms/step\n",
      "1/1 [==============================] - 0s 23ms/step\n",
      "1/1 [==============================] - 0s 25ms/step\n",
      "1/1 [==============================] - 0s 24ms/step\n",
      "1/1 [==============================] - 0s 23ms/step\n",
      "1/1 [==============================] - 0s 24ms/step\n",
      "1/1 [==============================] - 0s 24ms/step\n",
      "1/1 [==============================] - 0s 23ms/step\n",
      "1/1 [==============================] - 0s 26ms/step\n",
      "1/1 [==============================] - 0s 21ms/step\n",
      "1/1 [==============================] - 0s 23ms/step\n",
      "1/1 [==============================] - 0s 24ms/step\n",
      "1/1 [==============================] - 0s 23ms/step\n",
      "1/1 [==============================] - 0s 24ms/step\n",
      "1/1 [==============================] - 0s 23ms/step\n",
      "1/1 [==============================] - 0s 24ms/step\n",
      "1/1 [==============================] - 0s 21ms/step\n",
      "1/1 [==============================] - 0s 23ms/step\n",
      "1/1 [==============================] - 0s 25ms/step\n",
      "1/1 [==============================] - 0s 24ms/step\n",
      "1/1 [==============================] - 0s 24ms/step\n",
      "1/1 [==============================] - 0s 21ms/step\n"
     ]
    }
   ],
   "source": [
    "# Change the sentence below to see your prediction. Make sure all the words are in the Glove embeddings.  \n",
    "questions = [\n",
    "    'What is your name?'\n",
    "    ,\"What's his name?\"\n",
    "    ,'Who are you?'\n",
    "    ,'What is your name'\n",
    "    ,'What is your name!'\n",
    "    ,'Who are you'\n",
    "    ,'Who are you!' \n",
    "    ,'today weather is bad'\n",
    "    ,'tell me a story'\n",
    "    ,'can you tell me your name?'\n",
    "    ,\"what are our names?\"\n",
    "    ,'May I have your name?'\n",
    "    ,'Sorry! Can I have your name again?'\n",
    "    ,'repeat your name?'\n",
    "    ,'can i take you for a walk?'\n",
    "    ,\"what is your brother\\'s name?\"\n",
    "    ,\"call me Ted\"\n",
    "    ,\"can you play on guitar?\"\n",
    "    ,\"tomorrow it will rain\"\n",
    "    ,\"can you tell him your name?\"\n",
    "    ,\"what are your cousins' names?\"\n",
    "    ,\"How are you?\"\n",
    "    ,\"How are you doing?\"\n",
    "    ,\"What’s up?\"\n",
    "    ,\"Good morning\"\n",
    "    ,\"Tell me something\"\n",
    "    ,\"Ok I’ll do that now\"\n",
    "    ,\"Hello, Thank you, Goodbye\",\"How can you help me?\"\n",
    "    , \"what can you do?\"\n",
    "    ,\"Hi, my name is Elshan\"\n",
    "    ,\"Happy birthday!\"\n",
    "    ,\"I have a question\"\n",
    "    ,\"can you help me?\"\n",
    "    ,\"tell me your name?\"\n",
    "]\n",
    "\n",
    "y = [1, 0, 1, 1, 1, 1, 1, 0, 0, 1, 0, 1, 1, 1, 0, 0, 0, 0, 0, 1, 0, 0, 0, 0, 0, 0, 0, 0, 0, 0, 0, 0, 0, 0, 1]\n",
    "\n",
    "y_pred = []\n",
    "for question in questions:\n",
    "    x_test = np.array([question])\n",
    "    X_test_indices = sentences_to_indices(x_test, word_to_index, maxLen)\n",
    "    # print(x_test[0] +' '+  str(np.argmax(model.predict(X_test_indices))))\n",
    "    y_pred.append(np.argmax(model.predict(X_test_indices)))"
   ]
  },
  {
   "cell_type": "code",
   "execution_count": 19,
   "metadata": {},
   "outputs": [
    {
     "name": "stdout",
     "output_type": "stream",
     "text": [
      "Question:  How are you?\n",
      "Real value:  0\n",
      "Predicted values:  1\n",
      "\n",
      "Question:  what can you do?\n",
      "Real value:  0\n",
      "Predicted values:  1\n",
      "\n"
     ]
    }
   ],
   "source": [
    "for i in range(len(y)):\n",
    "    if y_pred[i] != y[i]:\n",
    "        print(\"Question: \", questions[i])\n",
    "        print(\"Real value: \", y[i])\n",
    "        print(\"Predicted values: \", y_pred[i])\n",
    "        print()"
   ]
  },
  {
   "cell_type": "code",
   "execution_count": 20,
   "metadata": {},
   "outputs": [
    {
     "name": "stdout",
     "output_type": "stream",
     "text": [
      "0.9428571428571428\n",
      "1.0\n",
      "0.8571428571428571\n"
     ]
    },
    {
     "data": {
      "image/png": "[encoded data removed]",
      "text/plain": [
       "<Figure size 640x480 with 2 Axes>"
      ]
     },
     "metadata": {},
     "output_type": "display_data"
    }
   ],
   "source": [
    "color = 'white'\n",
    "matrix = confusion_matrix(y, y_pred)\n",
    "sns.heatmap(matrix, annot=True)\n",
    "\n",
    "print(accuracy_score(y, y_pred))\n",
    "print(recall_score(y, y_pred))\n",
    "print(precision_score(y, y_pred))"
   ]
  },
  {
   "cell_type": "code",
   "execution_count": 21,
   "metadata": {},
   "outputs": [],
   "source": [
    "# Save the entire model to a HDF5 file.\n",
    "# The '.h5' extension indicates that the model should be saved to HDF5.\n",
    "\n",
    "# model.save('txt_classification.h5')"
   ]
  },
  {
   "cell_type": "code",
   "execution_count": null,
   "metadata": {},
   "outputs": [],
   "source": []
  }
 ],
 "metadata": {
  "kernelspec": {
   "display_name": "venv",
   "language": "python",
   "name": "python3"
  },
  "language_info": {
   "codemirror_mode": {
    "name": "ipython",
    "version": 3
   },
   "file_extension": ".py",
   "mimetype": "text/x-python",
   "name": "python",
   "nbconvert_exporter": "python",
   "pygments_lexer": "ipython3",
   "version": "3.10.6"
  },
  "orig_nbformat": 4,
  "vscode": {
   "interpreter": {
    "hash": "c0787d5782cc4e5d3027cd7544fe2cd867424e5e8555a19fe932a978c0effd32"
   }
  }
 },
 "nbformat": 4,
 "nbformat_minor": 2
}
